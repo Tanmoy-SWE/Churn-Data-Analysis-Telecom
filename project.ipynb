{
 "cells": [
  {
   "cell_type": "markdown",
   "metadata": {
    "deletable": false,
    "editable": false,
    "nbgrader": {
     "cell_type": "markdown",
     "checksum": "f662ac096478849c786fa25273b5356f",
     "grade": false,
     "grade_id": "cell-12f7c2ea073326e3",
     "locked": true,
     "schema_version": 3,
     "solution": false,
     "task": false
    }
   },
   "source": [
    "## Project : Customer Churn\n",
    "\n",
    "#### Due Date: Friday May 13, 2022 at 11:59PM ET\n",
    "\n",
    "In this assignment, we will learn to make predictions based on frequent patterns. We will determine association rules to predict possible customer behavior. Along the way, we will get experience with \n",
    "\n",
    "- translating business tasks into data mining problems\n",
    "- determining relevant features of large datasets\n",
    "- developing and evaluating predictive models  \n",
    "\n",
    "The questions guide you step-by-step through these stages of data mining. \n",
    "\n",
    "#### Collaboration Policy\n",
    "\n",
    "You are prohibited from sharing your solutions. You are discouraged from providing guidance or assistance on questions. You should refrain from discussing the assignment with others. Consult the syllabus for information about policies surrounding misconduct."
   ]
  },
  {
   "cell_type": "markdown",
   "metadata": {},
   "source": [
    "**Name:** *list name here*"
   ]
  },
  {
   "cell_type": "markdown",
   "metadata": {},
   "source": [
    "**NetId:** *list netid here*"
   ]
  },
  {
   "cell_type": "markdown",
   "metadata": {},
   "source": [
    "**Collaborators:** *list names here*"
   ]
  },
  {
   "cell_type": "markdown",
   "metadata": {
    "deletable": false,
    "editable": false,
    "nbgrader": {
     "cell_type": "markdown",
     "checksum": "2a17100c1629bc01a9d33db34ed155a2",
     "grade": false,
     "grade_id": "cell-32e540020be7d8fe",
     "locked": true,
     "schema_version": 3,
     "solution": false,
     "task": false
    }
   },
   "source": [
    "### Rubric\n",
    "\n",
    "Question | Points\n",
    "--- | ---\n",
    "Question 1 | 1\n",
    "Question 2 | 1\n",
    "Question 3 | 1\n",
    "Question 4 | 1\n",
    "Question 5 | 1\n",
    "Question 6 | 1\n",
    "Question 7 | 1\n",
    "Question 8 | 1\n",
    "Question 9 | 1\n",
    "Question 10 | 1\n",
    "Question 11 | 1\n",
    "Question 12 | 1\n",
    "Question 13 | 1\n",
    "Question 14 | 1\n",
    "Total | 14"
   ]
  },
  {
   "cell_type": "code",
   "execution_count": 1,
   "metadata": {
    "deletable": false,
    "editable": false,
    "nbgrader": {
     "cell_type": "code",
     "checksum": "452799593f2ec58bdaf6acc0b0c9fd7c",
     "grade": false,
     "grade_id": "imports",
     "locked": true,
     "schema_version": 3,
     "solution": false
    }
   },
   "outputs": [],
   "source": [
    "# importing packages \n",
    "\n",
    "import pandas as pd\n",
    "import numpy as np\n",
    "\n",
    "import matplotlib.pyplot as plt\n",
    "import seaborn as sns\n",
    "\n",
    "import sklearn.preprocessing\n",
    "\n",
    "import pyspark\n",
    "import pyspark.ml\n",
    "from pyspark.sql import functions as F\n",
    "\n",
    "# changing some settings\n",
    "\n",
    "pd.set_option('display.max_rows', 15)\n",
    "pd.set_option('display.max_columns', 20)\n",
    "plt.rcParams['figure.figsize'] = (9,7)\n",
    "\n",
    "# indicating paths to files\n",
    "\n",
    "import os\n",
    "home = os.environ['HOME']\n",
    "path_dataset = f\"{home}/shared/project/customer_churn.csv\" \n",
    "path_association_rules = f\"{home}/shared/project/churn_association_rules.csv\"\n",
    "path_evaluation = f\"{home}/shared/project/evaluation.csv\"\n",
    "\n",
    "from IPython.display import Image\n",
    "path_images = f\"{home}/shared/project/images/\" "
   ]
  },
  {
   "cell_type": "markdown",
   "metadata": {
    "deletable": false,
    "editable": false,
    "nbgrader": {
     "cell_type": "markdown",
     "checksum": "1155109acc9571553e8b6b72693f9f75",
     "grade": false,
     "grade_id": "cell-a29e39810ab075f4",
     "locked": true,
     "schema_version": 3,
     "solution": false,
     "task": false
    }
   },
   "source": [
    "We want to study engagement of customers with service provider. If customers choose to discontinue their service, then service providers need to determine patterns in customer behavior. We use the phrase customer churn to describe the loss of customers through suspension or cancellation of subscription to services. Many companies deal with customer churn including companies in banking, insurance, media, personal fitness and transportation. \n",
    "\n",
    "Commonly companies will have groups of data analysts focus on determining patterns in customer churn to avoid turnover. Using customer records, these groups try to predict the likelihood of discontinuation of services. If data analysts determine a pattern in customer behavior, then groups in customer relations can intervene to retain subscribers. The factors associated with customer churn could indicate sources of customer dissatisfaction. If data analysts identify certain services as causes for customer churn, then the company can solicit feedback from customers with the intention of improving services.   \n",
    "\n",
    "We will use market basket analysis to determine frequent patterns in customer churn. We will use a dataset related to telecommunication services. Using frequent patterns, we can find association rules along with their confidence and lift. If the consequent of the association rule relates to customer churn, then we can use the antecedent to make predictions. Leveraging skills from class, we want to divide the search for association rules into several steps.\n",
    "\n",
    "<p> \n",
    "<ul>\n",
    "    <li>1. Job Task Analysis</li>\n",
    "    <li>2. Data Processing</li>\n",
    "    <li>3. Exploratory Data Analysis</li>\n",
    "    <li>4. Modeling</li>\n",
    "    <li>5. Evaluation</li>\n",
    "</ul>\n",
    "</p>\n",
    "Additionally we will discuss some of the operational issues surrounding deployment. Note that these steps roughly follow the cross-industry standard process for data mining (CRISP-DM).\n",
    "\n",
    "\n",
    "### Job Task Analysis\n",
    "Before we can study the data, we need to identify the business tasks. Remember that we want to find patterns in customer behavior to predict customer churn at the telecommunication company. The information should help the company to \n",
    "\n",
    "- contact customers planning to discontinue services\n",
    "- identify at risk customers that contact customer relations \n",
    "- explore factors behind customer dissatisfactions\n",
    "\n",
    "Since a customer can choose to continue service or discontinue service, we need to predict two possible situations. Moreover, the strength of the prediction should allow us to rank customers based on the risk of churn. So we should develop a model that predicts the probability of customer churn from relevant features like \n",
    "\n",
    "- type of service\n",
    "- demographic information\n",
    "- type of contract\n",
    "\n",
    "We can have several values for each feature of customer behavior like phone, internet or phone/internet for type of service. We will need to fit the model to the customer records to determine the values relevant to customer churn. While we could take different approaches to representing the data, we could format the records like items in a transaction    \n",
    "\n",
    "- (type of service, internet), (demographic information, retiree), (type of contract, no device protection), ...\n",
    "\n",
    "From studying market basket analysis, we could determine frequent patterns and association rules. If the consequent of the association rule is \n",
    "\n",
    "- (churn, yes)\n",
    "\n",
    "then the antecedent indicates factors of customer dissatisfaction. If we find the items in the antecedent amongst a customer record, then we would predict that the customer will discontinue service. Moreover the confidence of the association would provide a probability reflecting the strength of the prediction. Different confidence could inform different intervention strategies from customer relations. If the confidence is high, then customer relations would need to incentive the customer to continue service through discounts, promotions or support. The incentives associated with retaining an old customer should cost less than the advertising need to solicit a new customer.   \n",
    "\n",
    "### Data Processing\n",
    "\n",
    "If we were not responsible for extracting/transforming/loading the customer records, then we need to assess the collection and logging of the data. \n",
    "\n",
    "The telecommunication company could take different approaches to handling the customer churn data in the data warehouse. Customer relations might have recent data from a sample of customers. We could wait some period of time to observe any discontinuation of service amongst the customers in the sample. However, we would need to delay the work for weeks or months. Moreover, we need many samples of customers. If we conduct samples at different periods of the year, then we can avoid possible bias from seasonal factors. So we should access historical records in the data warehouse."
   ]
  },
  {
   "cell_type": "code",
   "execution_count": 2,
   "metadata": {
    "deletable": false,
    "editable": false,
    "nbgrader": {
     "cell_type": "code",
     "checksum": "9c78766682adc0ab26b174bcd2e18c32",
     "grade": false,
     "grade_id": "cell-a7fbb87e8bfd809f",
     "locked": true,
     "schema_version": 3,
     "solution": false,
     "task": false
    }
   },
   "outputs": [
    {
     "data": {
      "image/png": "[encoded data removed]",
      "text/plain": [
       "<IPython.core.display.Image object>"
      ]
     },
     "execution_count": 2,
     "metadata": {},
     "output_type": "execute_result"
    }
   ],
   "source": [
    "Image(path_images + \"churn_sampling_scheme.png\")"
   ]
  },
  {
   "cell_type": "markdown",
   "metadata": {
    "deletable": false,
    "editable": false,
    "nbgrader": {
     "cell_type": "markdown",
     "checksum": "b7dcfa65d5be7ba695a3af5492c0b2d5",
     "grade": false,
     "grade_id": "cell-0e554a2a3fb1925f",
     "locked": true,
     "schema_version": 3,
     "solution": false,
     "task": false
    }
   },
   "source": [
    "The point `t = now` is the present time. However, we are interested in the past time `t=0`. The dataset should contain a sample of customer records reflecting the period before `t=0`. Here `predictor` indicates the antecedent of the association rule for the prediction. The period before `t=0` should allow customer relations to observe any feature relevant to association rules. Following `t=0`, the customer can terminate or suspend subscription of service. We can check the period between `t=0` and `t=now` for any customer churn. Note that we could repeat the study with a different sample of customer records corresponding to a different past time `t=0`."
   ]
  },
  {
   "cell_type": "code",
   "execution_count": 3,
   "metadata": {
    "deletable": false,
    "editable": false,
    "nbgrader": {
     "cell_type": "code",
     "checksum": "bcf7f5059616154524b825fdb6708441",
     "grade": false,
     "grade_id": "cell-4164ec5740a216c7",
     "locked": true,
     "schema_version": 3,
     "solution": false,
     "task": false
    }
   },
   "outputs": [
    {
     "data": {
      "text/html": [
       "<div>\n",
       "<style scoped>\n",
       "    .dataframe tbody tr th:only-of-type {\n",
       "        vertical-align: middle;\n",
       "    }\n",
       "\n",
       "    .dataframe tbody tr th {\n",
       "        vertical-align: top;\n",
       "    }\n",
       "\n",
       "    .dataframe thead th {\n",
       "        text-align: right;\n",
       "    }\n",
       "</style>\n",
       "<table border=\"1\" class=\"dataframe\">\n",
       "  <thead>\n",
       "    <tr style=\"text-align: right;\">\n",
       "      <th></th>\n",
       "      <th>customerID</th>\n",
       "      <th>gender</th>\n",
       "      <th>SeniorCitizen</th>\n",
       "      <th>Partner</th>\n",
       "      <th>Dependents</th>\n",
       "      <th>tenure</th>\n",
       "      <th>PhoneService</th>\n",
       "      <th>MultipleLines</th>\n",
       "      <th>InternetService</th>\n",
       "      <th>OnlineSecurity</th>\n",
       "      <th>...</th>\n",
       "      <th>DeviceProtection</th>\n",
       "      <th>TechSupport</th>\n",
       "      <th>StreamingTV</th>\n",
       "      <th>StreamingMovies</th>\n",
       "      <th>Contract</th>\n",
       "      <th>PaperlessBilling</th>\n",
       "      <th>PaymentMethod</th>\n",
       "      <th>MonthlyCharges</th>\n",
       "      <th>TotalCharges</th>\n",
       "      <th>Churn</th>\n",
       "    </tr>\n",
       "  </thead>\n",
       "  <tbody>\n",
       "    <tr>\n",
       "      <th>0</th>\n",
       "      <td>7590-VHVEG</td>\n",
       "      <td>Female</td>\n",
       "      <td>0</td>\n",
       "      <td>Yes</td>\n",
       "      <td>No</td>\n",
       "      <td>1</td>\n",
       "      <td>No</td>\n",
       "      <td>No phone service</td>\n",
       "      <td>DSL</td>\n",
       "      <td>No</td>\n",
       "      <td>...</td>\n",
       "      <td>No</td>\n",
       "      <td>No</td>\n",
       "      <td>No</td>\n",
       "      <td>No</td>\n",
       "      <td>Month-to-month</td>\n",
       "      <td>Yes</td>\n",
       "      <td>Electronic check</td>\n",
       "      <td>29.85</td>\n",
       "      <td>29.85</td>\n",
       "      <td>No</td>\n",
       "    </tr>\n",
       "    <tr>\n",
       "      <th>1</th>\n",
       "      <td>5575-GNVDE</td>\n",
       "      <td>Male</td>\n",
       "      <td>0</td>\n",
       "      <td>No</td>\n",
       "      <td>No</td>\n",
       "      <td>34</td>\n",
       "      <td>Yes</td>\n",
       "      <td>No</td>\n",
       "      <td>DSL</td>\n",
       "      <td>Yes</td>\n",
       "      <td>...</td>\n",
       "      <td>Yes</td>\n",
       "      <td>No</td>\n",
       "      <td>No</td>\n",
       "      <td>No</td>\n",
       "      <td>One year</td>\n",
       "      <td>No</td>\n",
       "      <td>Mailed check</td>\n",
       "      <td>56.95</td>\n",
       "      <td>1889.5</td>\n",
       "      <td>No</td>\n",
       "    </tr>\n",
       "    <tr>\n",
       "      <th>2</th>\n",
       "      <td>3668-QPYBK</td>\n",
       "      <td>Male</td>\n",
       "      <td>0</td>\n",
       "      <td>No</td>\n",
       "      <td>No</td>\n",
       "      <td>2</td>\n",
       "      <td>Yes</td>\n",
       "      <td>No</td>\n",
       "      <td>DSL</td>\n",
       "      <td>Yes</td>\n",
       "      <td>...</td>\n",
       "      <td>No</td>\n",
       "      <td>No</td>\n",
       "      <td>No</td>\n",
       "      <td>No</td>\n",
       "      <td>Month-to-month</td>\n",
       "      <td>Yes</td>\n",
       "      <td>Mailed check</td>\n",
       "      <td>53.85</td>\n",
       "      <td>108.15</td>\n",
       "      <td>Yes</td>\n",
       "    </tr>\n",
       "  </tbody>\n",
       "</table>\n",
       "<p>3 rows × 21 columns</p>\n",
       "</div>"
      ],
      "text/plain": [
       "   customerID  gender  SeniorCitizen Partner Dependents  tenure PhoneService  \\\n",
       "0  7590-VHVEG  Female              0     Yes         No       1           No   \n",
       "1  5575-GNVDE    Male              0      No         No      34          Yes   \n",
       "2  3668-QPYBK    Male              0      No         No       2          Yes   \n",
       "\n",
       "      MultipleLines InternetService OnlineSecurity  ... DeviceProtection  \\\n",
       "0  No phone service             DSL             No  ...               No   \n",
       "1                No             DSL            Yes  ...              Yes   \n",
       "2                No             DSL            Yes  ...               No   \n",
       "\n",
       "  TechSupport StreamingTV StreamingMovies        Contract PaperlessBilling  \\\n",
       "0          No          No              No  Month-to-month              Yes   \n",
       "1          No          No              No        One year               No   \n",
       "2          No          No              No  Month-to-month              Yes   \n",
       "\n",
       "      PaymentMethod MonthlyCharges  TotalCharges Churn  \n",
       "0  Electronic check          29.85         29.85    No  \n",
       "1      Mailed check          56.95        1889.5    No  \n",
       "2      Mailed check          53.85        108.15   Yes  \n",
       "\n",
       "[3 rows x 21 columns]"
      ]
     },
     "execution_count": 3,
     "metadata": {},
     "output_type": "execute_result"
    }
   ],
   "source": [
    "churn_data = pd.read_csv(path_dataset)\n",
    "churn_data.head(3)"
   ]
  },
  {
   "cell_type": "code",
   "execution_count": 4,
   "metadata": {},
   "outputs": [
    {
     "data": {
      "text/html": [
       "<div>\n",
       "<style scoped>\n",
       "    .dataframe tbody tr th:only-of-type {\n",
       "        vertical-align: middle;\n",
       "    }\n",
       "\n",
       "    .dataframe tbody tr th {\n",
       "        vertical-align: top;\n",
       "    }\n",
       "\n",
       "    .dataframe thead th {\n",
       "        text-align: right;\n",
       "    }\n",
       "</style>\n",
       "<table border=\"1\" class=\"dataframe\">\n",
       "  <thead>\n",
       "    <tr style=\"text-align: right;\">\n",
       "      <th></th>\n",
       "      <th>customerID</th>\n",
       "      <th>gender</th>\n",
       "      <th>SeniorCitizen</th>\n",
       "      <th>Partner</th>\n",
       "      <th>Dependents</th>\n",
       "      <th>tenure</th>\n",
       "      <th>PhoneService</th>\n",
       "      <th>MultipleLines</th>\n",
       "      <th>InternetService</th>\n",
       "      <th>OnlineSecurity</th>\n",
       "      <th>...</th>\n",
       "      <th>DeviceProtection</th>\n",
       "      <th>TechSupport</th>\n",
       "      <th>StreamingTV</th>\n",
       "      <th>StreamingMovies</th>\n",
       "      <th>Contract</th>\n",
       "      <th>PaperlessBilling</th>\n",
       "      <th>PaymentMethod</th>\n",
       "      <th>MonthlyCharges</th>\n",
       "      <th>TotalCharges</th>\n",
       "      <th>Churn</th>\n",
       "    </tr>\n",
       "  </thead>\n",
       "  <tbody>\n",
       "    <tr>\n",
       "      <th>0</th>\n",
       "      <td>7590-VHVEG</td>\n",
       "      <td>Female</td>\n",
       "      <td>0</td>\n",
       "      <td>Yes</td>\n",
       "      <td>No</td>\n",
       "      <td>1</td>\n",
       "      <td>No</td>\n",
       "      <td>No phone service</td>\n",
       "      <td>DSL</td>\n",
       "      <td>No</td>\n",
       "      <td>...</td>\n",
       "      <td>No</td>\n",
       "      <td>No</td>\n",
       "      <td>No</td>\n",
       "      <td>No</td>\n",
       "      <td>Month-to-month</td>\n",
       "      <td>Yes</td>\n",
       "      <td>Electronic check</td>\n",
       "      <td>29.85</td>\n",
       "      <td>29.85</td>\n",
       "      <td>No</td>\n",
       "    </tr>\n",
       "    <tr>\n",
       "      <th>1</th>\n",
       "      <td>5575-GNVDE</td>\n",
       "      <td>Male</td>\n",
       "      <td>0</td>\n",
       "      <td>No</td>\n",
       "      <td>No</td>\n",
       "      <td>34</td>\n",
       "      <td>Yes</td>\n",
       "      <td>No</td>\n",
       "      <td>DSL</td>\n",
       "      <td>Yes</td>\n",
       "      <td>...</td>\n",
       "      <td>Yes</td>\n",
       "      <td>No</td>\n",
       "      <td>No</td>\n",
       "      <td>No</td>\n",
       "      <td>One year</td>\n",
       "      <td>No</td>\n",
       "      <td>Mailed check</td>\n",
       "      <td>56.95</td>\n",
       "      <td>1889.5</td>\n",
       "      <td>No</td>\n",
       "    </tr>\n",
       "    <tr>\n",
       "      <th>2</th>\n",
       "      <td>3668-QPYBK</td>\n",
       "      <td>Male</td>\n",
       "      <td>0</td>\n",
       "      <td>No</td>\n",
       "      <td>No</td>\n",
       "      <td>2</td>\n",
       "      <td>Yes</td>\n",
       "      <td>No</td>\n",
       "      <td>DSL</td>\n",
       "      <td>Yes</td>\n",
       "      <td>...</td>\n",
       "      <td>No</td>\n",
       "      <td>No</td>\n",
       "      <td>No</td>\n",
       "      <td>No</td>\n",
       "      <td>Month-to-month</td>\n",
       "      <td>Yes</td>\n",
       "      <td>Mailed check</td>\n",
       "      <td>53.85</td>\n",
       "      <td>108.15</td>\n",
       "      <td>Yes</td>\n",
       "    </tr>\n",
       "    <tr>\n",
       "      <th>3</th>\n",
       "      <td>7795-CFOCW</td>\n",
       "      <td>Male</td>\n",
       "      <td>0</td>\n",
       "      <td>No</td>\n",
       "      <td>No</td>\n",
       "      <td>45</td>\n",
       "      <td>No</td>\n",
       "      <td>No phone service</td>\n",
       "      <td>DSL</td>\n",
       "      <td>Yes</td>\n",
       "      <td>...</td>\n",
       "      <td>Yes</td>\n",
       "      <td>Yes</td>\n",
       "      <td>No</td>\n",
       "      <td>No</td>\n",
       "      <td>One year</td>\n",
       "      <td>No</td>\n",
       "      <td>Bank transfer (automatic)</td>\n",
       "      <td>42.30</td>\n",
       "      <td>1840.75</td>\n",
       "      <td>No</td>\n",
       "    </tr>\n",
       "    <tr>\n",
       "      <th>4</th>\n",
       "      <td>9237-HQITU</td>\n",
       "      <td>Female</td>\n",
       "      <td>0</td>\n",
       "      <td>No</td>\n",
       "      <td>No</td>\n",
       "      <td>2</td>\n",
       "      <td>Yes</td>\n",
       "      <td>No</td>\n",
       "      <td>Fiber optic</td>\n",
       "      <td>No</td>\n",
       "      <td>...</td>\n",
       "      <td>No</td>\n",
       "      <td>No</td>\n",
       "      <td>No</td>\n",
       "      <td>No</td>\n",
       "      <td>Month-to-month</td>\n",
       "      <td>Yes</td>\n",
       "      <td>Electronic check</td>\n",
       "      <td>70.70</td>\n",
       "      <td>151.65</td>\n",
       "      <td>Yes</td>\n",
       "    </tr>\n",
       "    <tr>\n",
       "      <th>...</th>\n",
       "      <td>...</td>\n",
       "      <td>...</td>\n",
       "      <td>...</td>\n",
       "      <td>...</td>\n",
       "      <td>...</td>\n",
       "      <td>...</td>\n",
       "      <td>...</td>\n",
       "      <td>...</td>\n",
       "      <td>...</td>\n",
       "      <td>...</td>\n",
       "      <td>...</td>\n",
       "      <td>...</td>\n",
       "      <td>...</td>\n",
       "      <td>...</td>\n",
       "      <td>...</td>\n",
       "      <td>...</td>\n",
       "      <td>...</td>\n",
       "      <td>...</td>\n",
       "      <td>...</td>\n",
       "      <td>...</td>\n",
       "      <td>...</td>\n",
       "    </tr>\n",
       "    <tr>\n",
       "      <th>7038</th>\n",
       "      <td>6840-RESVB</td>\n",
       "      <td>Male</td>\n",
       "      <td>0</td>\n",
       "      <td>Yes</td>\n",
       "      <td>Yes</td>\n",
       "      <td>24</td>\n",
       "      <td>Yes</td>\n",
       "      <td>Yes</td>\n",
       "      <td>DSL</td>\n",
       "      <td>Yes</td>\n",
       "      <td>...</td>\n",
       "      <td>Yes</td>\n",
       "      <td>Yes</td>\n",
       "      <td>Yes</td>\n",
       "      <td>Yes</td>\n",
       "      <td>One year</td>\n",
       "      <td>Yes</td>\n",
       "      <td>Mailed check</td>\n",
       "      <td>84.80</td>\n",
       "      <td>1990.5</td>\n",
       "      <td>No</td>\n",
       "    </tr>\n",
       "    <tr>\n",
       "      <th>7039</th>\n",
       "      <td>2234-XADUH</td>\n",
       "      <td>Female</td>\n",
       "      <td>0</td>\n",
       "      <td>Yes</td>\n",
       "      <td>Yes</td>\n",
       "      <td>72</td>\n",
       "      <td>Yes</td>\n",
       "      <td>Yes</td>\n",
       "      <td>Fiber optic</td>\n",
       "      <td>No</td>\n",
       "      <td>...</td>\n",
       "      <td>Yes</td>\n",
       "      <td>No</td>\n",
       "      <td>Yes</td>\n",
       "      <td>Yes</td>\n",
       "      <td>One year</td>\n",
       "      <td>Yes</td>\n",
       "      <td>Credit card (automatic)</td>\n",
       "      <td>103.20</td>\n",
       "      <td>7362.9</td>\n",
       "      <td>No</td>\n",
       "    </tr>\n",
       "    <tr>\n",
       "      <th>7040</th>\n",
       "      <td>4801-JZAZL</td>\n",
       "      <td>Female</td>\n",
       "      <td>0</td>\n",
       "      <td>Yes</td>\n",
       "      <td>Yes</td>\n",
       "      <td>11</td>\n",
       "      <td>No</td>\n",
       "      <td>No phone service</td>\n",
       "      <td>DSL</td>\n",
       "      <td>Yes</td>\n",
       "      <td>...</td>\n",
       "      <td>No</td>\n",
       "      <td>No</td>\n",
       "      <td>No</td>\n",
       "      <td>No</td>\n",
       "      <td>Month-to-month</td>\n",
       "      <td>Yes</td>\n",
       "      <td>Electronic check</td>\n",
       "      <td>29.60</td>\n",
       "      <td>346.45</td>\n",
       "      <td>No</td>\n",
       "    </tr>\n",
       "    <tr>\n",
       "      <th>7041</th>\n",
       "      <td>8361-LTMKD</td>\n",
       "      <td>Male</td>\n",
       "      <td>1</td>\n",
       "      <td>Yes</td>\n",
       "      <td>No</td>\n",
       "      <td>4</td>\n",
       "      <td>Yes</td>\n",
       "      <td>Yes</td>\n",
       "      <td>Fiber optic</td>\n",
       "      <td>No</td>\n",
       "      <td>...</td>\n",
       "      <td>No</td>\n",
       "      <td>No</td>\n",
       "      <td>No</td>\n",
       "      <td>No</td>\n",
       "      <td>Month-to-month</td>\n",
       "      <td>Yes</td>\n",
       "      <td>Mailed check</td>\n",
       "      <td>74.40</td>\n",
       "      <td>306.6</td>\n",
       "      <td>Yes</td>\n",
       "    </tr>\n",
       "    <tr>\n",
       "      <th>7042</th>\n",
       "      <td>3186-AJIEK</td>\n",
       "      <td>Male</td>\n",
       "      <td>0</td>\n",
       "      <td>No</td>\n",
       "      <td>No</td>\n",
       "      <td>66</td>\n",
       "      <td>Yes</td>\n",
       "      <td>No</td>\n",
       "      <td>Fiber optic</td>\n",
       "      <td>Yes</td>\n",
       "      <td>...</td>\n",
       "      <td>Yes</td>\n",
       "      <td>Yes</td>\n",
       "      <td>Yes</td>\n",
       "      <td>Yes</td>\n",
       "      <td>Two year</td>\n",
       "      <td>Yes</td>\n",
       "      <td>Bank transfer (automatic)</td>\n",
       "      <td>105.65</td>\n",
       "      <td>6844.5</td>\n",
       "      <td>No</td>\n",
       "    </tr>\n",
       "  </tbody>\n",
       "</table>\n",
       "<p>7043 rows × 21 columns</p>\n",
       "</div>"
      ],
      "text/plain": [
       "      customerID  gender  SeniorCitizen Partner Dependents  tenure  \\\n",
       "0     7590-VHVEG  Female              0     Yes         No       1   \n",
       "1     5575-GNVDE    Male              0      No         No      34   \n",
       "2     3668-QPYBK    Male              0      No         No       2   \n",
       "3     7795-CFOCW    Male              0      No         No      45   \n",
       "4     9237-HQITU  Female              0      No         No       2   \n",
       "...          ...     ...            ...     ...        ...     ...   \n",
       "7038  6840-RESVB    Male              0     Yes        Yes      24   \n",
       "7039  2234-XADUH  Female              0     Yes        Yes      72   \n",
       "7040  4801-JZAZL  Female              0     Yes        Yes      11   \n",
       "7041  8361-LTMKD    Male              1     Yes         No       4   \n",
       "7042  3186-AJIEK    Male              0      No         No      66   \n",
       "\n",
       "     PhoneService     MultipleLines InternetService OnlineSecurity  ...  \\\n",
       "0              No  No phone service             DSL             No  ...   \n",
       "1             Yes                No             DSL            Yes  ...   \n",
       "2             Yes                No             DSL            Yes  ...   \n",
       "3              No  No phone service             DSL            Yes  ...   \n",
       "4             Yes                No     Fiber optic             No  ...   \n",
       "...           ...               ...             ...            ...  ...   \n",
       "7038          Yes               Yes             DSL            Yes  ...   \n",
       "7039          Yes               Yes     Fiber optic             No  ...   \n",
       "7040           No  No phone service             DSL            Yes  ...   \n",
       "7041          Yes               Yes     Fiber optic             No  ...   \n",
       "7042          Yes                No     Fiber optic            Yes  ...   \n",
       "\n",
       "     DeviceProtection TechSupport StreamingTV StreamingMovies        Contract  \\\n",
       "0                  No          No          No              No  Month-to-month   \n",
       "1                 Yes          No          No              No        One year   \n",
       "2                  No          No          No              No  Month-to-month   \n",
       "3                 Yes         Yes          No              No        One year   \n",
       "4                  No          No          No              No  Month-to-month   \n",
       "...               ...         ...         ...             ...             ...   \n",
       "7038              Yes         Yes         Yes             Yes        One year   \n",
       "7039              Yes          No         Yes             Yes        One year   \n",
       "7040               No          No          No              No  Month-to-month   \n",
       "7041               No          No          No              No  Month-to-month   \n",
       "7042              Yes         Yes         Yes             Yes        Two year   \n",
       "\n",
       "     PaperlessBilling              PaymentMethod MonthlyCharges  TotalCharges  \\\n",
       "0                 Yes           Electronic check          29.85         29.85   \n",
       "1                  No               Mailed check          56.95        1889.5   \n",
       "2                 Yes               Mailed check          53.85        108.15   \n",
       "3                  No  Bank transfer (automatic)          42.30       1840.75   \n",
       "4                 Yes           Electronic check          70.70        151.65   \n",
       "...               ...                        ...            ...           ...   \n",
       "7038              Yes               Mailed check          84.80        1990.5   \n",
       "7039              Yes    Credit card (automatic)         103.20        7362.9   \n",
       "7040              Yes           Electronic check          29.60        346.45   \n",
       "7041              Yes               Mailed check          74.40         306.6   \n",
       "7042              Yes  Bank transfer (automatic)         105.65        6844.5   \n",
       "\n",
       "     Churn  \n",
       "0       No  \n",
       "1       No  \n",
       "2      Yes  \n",
       "3       No  \n",
       "4      Yes  \n",
       "...    ...  \n",
       "7038    No  \n",
       "7039    No  \n",
       "7040    No  \n",
       "7041   Yes  \n",
       "7042    No  \n",
       "\n",
       "[7043 rows x 21 columns]"
      ]
     },
     "execution_count": 4,
     "metadata": {},
     "output_type": "execute_result"
    }
   ],
   "source": [
    "churn_data"
   ]
  },
  {
   "cell_type": "markdown",
   "metadata": {
    "deletable": false,
    "editable": false,
    "nbgrader": {
     "cell_type": "markdown",
     "checksum": "8b572f3743f96050e795be80fedb15c8",
     "grade": false,
     "grade_id": "cell-1f5bdd1f8ac312ad",
     "locked": true,
     "schema_version": 3,
     "solution": false,
     "task": false
    }
   },
   "source": [
    "We have a dataset consisting of 7043 records and 21 features including `Churn`. We will use the model to determine combinations of features indicative of customer churn. However, we need to target features relevant to customer churn in the sample. If we were not able to confer with experienced employees in customer relations about risk factors for customer churn in telecommunications, then we would need to explore many samples to determine possible features relevant to the business tasks. "
   ]
  },
  {
   "cell_type": "code",
   "execution_count": 5,
   "metadata": {
    "deletable": false,
    "editable": false,
    "nbgrader": {
     "cell_type": "code",
     "checksum": "3212293979ede5f916c7c91ab9e7db55",
     "grade": false,
     "grade_id": "cell-4ddb5eeba5399f70",
     "locked": true,
     "schema_version": 3,
     "solution": false,
     "task": false
    }
   },
   "outputs": [
    {
     "data": {
      "text/html": [
       "<div>\n",
       "<style scoped>\n",
       "    .dataframe tbody tr th:only-of-type {\n",
       "        vertical-align: middle;\n",
       "    }\n",
       "\n",
       "    .dataframe tbody tr th {\n",
       "        vertical-align: top;\n",
       "    }\n",
       "\n",
       "    .dataframe thead th {\n",
       "        text-align: right;\n",
       "    }\n",
       "</style>\n",
       "<table border=\"1\" class=\"dataframe\">\n",
       "  <thead>\n",
       "    <tr style=\"text-align: right;\">\n",
       "      <th></th>\n",
       "      <th>customerID</th>\n",
       "      <th>gender</th>\n",
       "      <th>SeniorCitizen</th>\n",
       "      <th>Partner</th>\n",
       "      <th>Dependents</th>\n",
       "      <th>tenure</th>\n",
       "      <th>PhoneService</th>\n",
       "      <th>MultipleLines</th>\n",
       "      <th>InternetService</th>\n",
       "      <th>OnlineSecurity</th>\n",
       "      <th>...</th>\n",
       "      <th>DeviceProtection</th>\n",
       "      <th>TechSupport</th>\n",
       "      <th>StreamingTV</th>\n",
       "      <th>StreamingMovies</th>\n",
       "      <th>Contract</th>\n",
       "      <th>PaperlessBilling</th>\n",
       "      <th>PaymentMethod</th>\n",
       "      <th>MonthlyCharges</th>\n",
       "      <th>TotalCharges</th>\n",
       "      <th>Churn</th>\n",
       "    </tr>\n",
       "  </thead>\n",
       "  <tbody>\n",
       "    <tr>\n",
       "      <th>count</th>\n",
       "      <td>7043</td>\n",
       "      <td>7043</td>\n",
       "      <td>7043.000000</td>\n",
       "      <td>7043</td>\n",
       "      <td>7043</td>\n",
       "      <td>7043.000000</td>\n",
       "      <td>7043</td>\n",
       "      <td>7043</td>\n",
       "      <td>7043</td>\n",
       "      <td>7043</td>\n",
       "      <td>...</td>\n",
       "      <td>7043</td>\n",
       "      <td>7043</td>\n",
       "      <td>7043</td>\n",
       "      <td>7043</td>\n",
       "      <td>7043</td>\n",
       "      <td>7043</td>\n",
       "      <td>7043</td>\n",
       "      <td>7043.000000</td>\n",
       "      <td>7043</td>\n",
       "      <td>7043</td>\n",
       "    </tr>\n",
       "    <tr>\n",
       "      <th>unique</th>\n",
       "      <td>7043</td>\n",
       "      <td>2</td>\n",
       "      <td>NaN</td>\n",
       "      <td>2</td>\n",
       "      <td>2</td>\n",
       "      <td>NaN</td>\n",
       "      <td>2</td>\n",
       "      <td>3</td>\n",
       "      <td>3</td>\n",
       "      <td>3</td>\n",
       "      <td>...</td>\n",
       "      <td>3</td>\n",
       "      <td>3</td>\n",
       "      <td>3</td>\n",
       "      <td>3</td>\n",
       "      <td>3</td>\n",
       "      <td>2</td>\n",
       "      <td>4</td>\n",
       "      <td>NaN</td>\n",
       "      <td>6531</td>\n",
       "      <td>2</td>\n",
       "    </tr>\n",
       "    <tr>\n",
       "      <th>top</th>\n",
       "      <td>8728-SKJLR</td>\n",
       "      <td>Male</td>\n",
       "      <td>NaN</td>\n",
       "      <td>No</td>\n",
       "      <td>No</td>\n",
       "      <td>NaN</td>\n",
       "      <td>Yes</td>\n",
       "      <td>No</td>\n",
       "      <td>Fiber optic</td>\n",
       "      <td>No</td>\n",
       "      <td>...</td>\n",
       "      <td>No</td>\n",
       "      <td>No</td>\n",
       "      <td>No</td>\n",
       "      <td>No</td>\n",
       "      <td>Month-to-month</td>\n",
       "      <td>Yes</td>\n",
       "      <td>Electronic check</td>\n",
       "      <td>NaN</td>\n",
       "      <td>20.2</td>\n",
       "      <td>No</td>\n",
       "    </tr>\n",
       "    <tr>\n",
       "      <th>freq</th>\n",
       "      <td>1</td>\n",
       "      <td>3555</td>\n",
       "      <td>NaN</td>\n",
       "      <td>3641</td>\n",
       "      <td>4933</td>\n",
       "      <td>NaN</td>\n",
       "      <td>6361</td>\n",
       "      <td>3390</td>\n",
       "      <td>3096</td>\n",
       "      <td>3498</td>\n",
       "      <td>...</td>\n",
       "      <td>3095</td>\n",
       "      <td>3473</td>\n",
       "      <td>2810</td>\n",
       "      <td>2785</td>\n",
       "      <td>3875</td>\n",
       "      <td>4171</td>\n",
       "      <td>2365</td>\n",
       "      <td>NaN</td>\n",
       "      <td>11</td>\n",
       "      <td>5174</td>\n",
       "    </tr>\n",
       "    <tr>\n",
       "      <th>mean</th>\n",
       "      <td>NaN</td>\n",
       "      <td>NaN</td>\n",
       "      <td>0.162147</td>\n",
       "      <td>NaN</td>\n",
       "      <td>NaN</td>\n",
       "      <td>32.371149</td>\n",
       "      <td>NaN</td>\n",
       "      <td>NaN</td>\n",
       "      <td>NaN</td>\n",
       "      <td>NaN</td>\n",
       "      <td>...</td>\n",
       "      <td>NaN</td>\n",
       "      <td>NaN</td>\n",
       "      <td>NaN</td>\n",
       "      <td>NaN</td>\n",
       "      <td>NaN</td>\n",
       "      <td>NaN</td>\n",
       "      <td>NaN</td>\n",
       "      <td>64.761692</td>\n",
       "      <td>NaN</td>\n",
       "      <td>NaN</td>\n",
       "    </tr>\n",
       "    <tr>\n",
       "      <th>std</th>\n",
       "      <td>NaN</td>\n",
       "      <td>NaN</td>\n",
       "      <td>0.368612</td>\n",
       "      <td>NaN</td>\n",
       "      <td>NaN</td>\n",
       "      <td>24.559481</td>\n",
       "      <td>NaN</td>\n",
       "      <td>NaN</td>\n",
       "      <td>NaN</td>\n",
       "      <td>NaN</td>\n",
       "      <td>...</td>\n",
       "      <td>NaN</td>\n",
       "      <td>NaN</td>\n",
       "      <td>NaN</td>\n",
       "      <td>NaN</td>\n",
       "      <td>NaN</td>\n",
       "      <td>NaN</td>\n",
       "      <td>NaN</td>\n",
       "      <td>30.090047</td>\n",
       "      <td>NaN</td>\n",
       "      <td>NaN</td>\n",
       "    </tr>\n",
       "    <tr>\n",
       "      <th>min</th>\n",
       "      <td>NaN</td>\n",
       "      <td>NaN</td>\n",
       "      <td>0.000000</td>\n",
       "      <td>NaN</td>\n",
       "      <td>NaN</td>\n",
       "      <td>0.000000</td>\n",
       "      <td>NaN</td>\n",
       "      <td>NaN</td>\n",
       "      <td>NaN</td>\n",
       "      <td>NaN</td>\n",
       "      <td>...</td>\n",
       "      <td>NaN</td>\n",
       "      <td>NaN</td>\n",
       "      <td>NaN</td>\n",
       "      <td>NaN</td>\n",
       "      <td>NaN</td>\n",
       "      <td>NaN</td>\n",
       "      <td>NaN</td>\n",
       "      <td>18.250000</td>\n",
       "      <td>NaN</td>\n",
       "      <td>NaN</td>\n",
       "    </tr>\n",
       "    <tr>\n",
       "      <th>25%</th>\n",
       "      <td>NaN</td>\n",
       "      <td>NaN</td>\n",
       "      <td>0.000000</td>\n",
       "      <td>NaN</td>\n",
       "      <td>NaN</td>\n",
       "      <td>9.000000</td>\n",
       "      <td>NaN</td>\n",
       "      <td>NaN</td>\n",
       "      <td>NaN</td>\n",
       "      <td>NaN</td>\n",
       "      <td>...</td>\n",
       "      <td>NaN</td>\n",
       "      <td>NaN</td>\n",
       "      <td>NaN</td>\n",
       "      <td>NaN</td>\n",
       "      <td>NaN</td>\n",
       "      <td>NaN</td>\n",
       "      <td>NaN</td>\n",
       "      <td>35.500000</td>\n",
       "      <td>NaN</td>\n",
       "      <td>NaN</td>\n",
       "    </tr>\n",
       "    <tr>\n",
       "      <th>50%</th>\n",
       "      <td>NaN</td>\n",
       "      <td>NaN</td>\n",
       "      <td>0.000000</td>\n",
       "      <td>NaN</td>\n",
       "      <td>NaN</td>\n",
       "      <td>29.000000</td>\n",
       "      <td>NaN</td>\n",
       "      <td>NaN</td>\n",
       "      <td>NaN</td>\n",
       "      <td>NaN</td>\n",
       "      <td>...</td>\n",
       "      <td>NaN</td>\n",
       "      <td>NaN</td>\n",
       "      <td>NaN</td>\n",
       "      <td>NaN</td>\n",
       "      <td>NaN</td>\n",
       "      <td>NaN</td>\n",
       "      <td>NaN</td>\n",
       "      <td>70.350000</td>\n",
       "      <td>NaN</td>\n",
       "      <td>NaN</td>\n",
       "    </tr>\n",
       "    <tr>\n",
       "      <th>75%</th>\n",
       "      <td>NaN</td>\n",
       "      <td>NaN</td>\n",
       "      <td>0.000000</td>\n",
       "      <td>NaN</td>\n",
       "      <td>NaN</td>\n",
       "      <td>55.000000</td>\n",
       "      <td>NaN</td>\n",
       "      <td>NaN</td>\n",
       "      <td>NaN</td>\n",
       "      <td>NaN</td>\n",
       "      <td>...</td>\n",
       "      <td>NaN</td>\n",
       "      <td>NaN</td>\n",
       "      <td>NaN</td>\n",
       "      <td>NaN</td>\n",
       "      <td>NaN</td>\n",
       "      <td>NaN</td>\n",
       "      <td>NaN</td>\n",
       "      <td>89.850000</td>\n",
       "      <td>NaN</td>\n",
       "      <td>NaN</td>\n",
       "    </tr>\n",
       "    <tr>\n",
       "      <th>max</th>\n",
       "      <td>NaN</td>\n",
       "      <td>NaN</td>\n",
       "      <td>1.000000</td>\n",
       "      <td>NaN</td>\n",
       "      <td>NaN</td>\n",
       "      <td>72.000000</td>\n",
       "      <td>NaN</td>\n",
       "      <td>NaN</td>\n",
       "      <td>NaN</td>\n",
       "      <td>NaN</td>\n",
       "      <td>...</td>\n",
       "      <td>NaN</td>\n",
       "      <td>NaN</td>\n",
       "      <td>NaN</td>\n",
       "      <td>NaN</td>\n",
       "      <td>NaN</td>\n",
       "      <td>NaN</td>\n",
       "      <td>NaN</td>\n",
       "      <td>118.750000</td>\n",
       "      <td>NaN</td>\n",
       "      <td>NaN</td>\n",
       "    </tr>\n",
       "  </tbody>\n",
       "</table>\n",
       "<p>11 rows × 21 columns</p>\n",
       "</div>"
      ],
      "text/plain": [
       "        customerID gender  SeniorCitizen Partner Dependents       tenure  \\\n",
       "count         7043   7043    7043.000000    7043       7043  7043.000000   \n",
       "unique        7043      2            NaN       2          2          NaN   \n",
       "top     8728-SKJLR   Male            NaN      No         No          NaN   \n",
       "freq             1   3555            NaN    3641       4933          NaN   \n",
       "mean           NaN    NaN       0.162147     NaN        NaN    32.371149   \n",
       "std            NaN    NaN       0.368612     NaN        NaN    24.559481   \n",
       "min            NaN    NaN       0.000000     NaN        NaN     0.000000   \n",
       "25%            NaN    NaN       0.000000     NaN        NaN     9.000000   \n",
       "50%            NaN    NaN       0.000000     NaN        NaN    29.000000   \n",
       "75%            NaN    NaN       0.000000     NaN        NaN    55.000000   \n",
       "max            NaN    NaN       1.000000     NaN        NaN    72.000000   \n",
       "\n",
       "       PhoneService MultipleLines InternetService OnlineSecurity  ...  \\\n",
       "count          7043          7043            7043           7043  ...   \n",
       "unique            2             3               3              3  ...   \n",
       "top             Yes            No     Fiber optic             No  ...   \n",
       "freq           6361          3390            3096           3498  ...   \n",
       "mean            NaN           NaN             NaN            NaN  ...   \n",
       "std             NaN           NaN             NaN            NaN  ...   \n",
       "min             NaN           NaN             NaN            NaN  ...   \n",
       "25%             NaN           NaN             NaN            NaN  ...   \n",
       "50%             NaN           NaN             NaN            NaN  ...   \n",
       "75%             NaN           NaN             NaN            NaN  ...   \n",
       "max             NaN           NaN             NaN            NaN  ...   \n",
       "\n",
       "       DeviceProtection TechSupport StreamingTV StreamingMovies  \\\n",
       "count              7043        7043        7043            7043   \n",
       "unique                3           3           3               3   \n",
       "top                  No          No          No              No   \n",
       "freq               3095        3473        2810            2785   \n",
       "mean                NaN         NaN         NaN             NaN   \n",
       "std                 NaN         NaN         NaN             NaN   \n",
       "min                 NaN         NaN         NaN             NaN   \n",
       "25%                 NaN         NaN         NaN             NaN   \n",
       "50%                 NaN         NaN         NaN             NaN   \n",
       "75%                 NaN         NaN         NaN             NaN   \n",
       "max                 NaN         NaN         NaN             NaN   \n",
       "\n",
       "              Contract PaperlessBilling     PaymentMethod MonthlyCharges  \\\n",
       "count             7043             7043              7043    7043.000000   \n",
       "unique               3                2                 4            NaN   \n",
       "top     Month-to-month              Yes  Electronic check            NaN   \n",
       "freq              3875             4171              2365            NaN   \n",
       "mean               NaN              NaN               NaN      64.761692   \n",
       "std                NaN              NaN               NaN      30.090047   \n",
       "min                NaN              NaN               NaN      18.250000   \n",
       "25%                NaN              NaN               NaN      35.500000   \n",
       "50%                NaN              NaN               NaN      70.350000   \n",
       "75%                NaN              NaN               NaN      89.850000   \n",
       "max                NaN              NaN               NaN     118.750000   \n",
       "\n",
       "        TotalCharges Churn  \n",
       "count           7043  7043  \n",
       "unique          6531     2  \n",
       "top             20.2    No  \n",
       "freq              11  5174  \n",
       "mean             NaN   NaN  \n",
       "std              NaN   NaN  \n",
       "min              NaN   NaN  \n",
       "25%              NaN   NaN  \n",
       "50%              NaN   NaN  \n",
       "75%              NaN   NaN  \n",
       "max              NaN   NaN  \n",
       "\n",
       "[11 rows x 21 columns]"
      ]
     },
     "execution_count": 5,
     "metadata": {},
     "output_type": "execute_result"
    }
   ],
   "source": [
    "churn_data.describe(include = \"all\")"
   ]
  },
  {
   "cell_type": "markdown",
   "metadata": {
    "deletable": false,
    "editable": false,
    "nbgrader": {
     "cell_type": "markdown",
     "checksum": "e35eb00e637da120c2f58e6290f94694",
     "grade": false,
     "grade_id": "cell-8dbce1a5f0f78c29",
     "locked": true,
     "schema_version": 3,
     "solution": false,
     "task": false
    }
   },
   "source": [
    "Note that `customerID` is the unique identifier of customers in the sample. Since we cannot use `customerID` for a feature in the model to predict customer churn, we can drop the unique identifier from the table."
   ]
  },
  {
   "cell_type": "code",
   "execution_count": 6,
   "metadata": {
    "deletable": false,
    "editable": false,
    "nbgrader": {
     "cell_type": "code",
     "checksum": "466e8801f6b2718b881f9c02270096d9",
     "grade": false,
     "grade_id": "cell-75a2ec7d1b573d24",
     "locked": true,
     "schema_version": 3,
     "solution": false,
     "task": false
    }
   },
   "outputs": [],
   "source": [
    "customer_id = churn_data[\"customerID\"]\n",
    "churn_data = churn_data.drop(columns = [\"customerID\"])"
   ]
  },
  {
   "cell_type": "markdown",
   "metadata": {
    "deletable": false,
    "editable": false,
    "nbgrader": {
     "cell_type": "markdown",
     "checksum": "fa037a28b12a95357b354370ef79b968",
     "grade": false,
     "grade_id": "cell-9db7645284556f96",
     "locked": true,
     "schema_version": 3,
     "solution": false,
     "task": false
    }
   },
   "source": [
    "We find that `SeniorCitizen` is a categorical variable. However, the table encodes `SeniorCitizen` with 0 or 1. "
   ]
  },
  {
   "cell_type": "code",
   "execution_count": 7,
   "metadata": {
    "deletable": false,
    "editable": false,
    "nbgrader": {
     "cell_type": "code",
     "checksum": "28026aec62377748b53f7d14ca21ab12",
     "grade": false,
     "grade_id": "cell-a6bcb9165d138cfe",
     "locked": true,
     "schema_version": 3,
     "solution": false,
     "task": false
    }
   },
   "outputs": [],
   "source": [
    "churn_data[\"SeniorCitizen\"] = churn_data[\"SeniorCitizen\"].replace({0:\"No\", 1:\"Yes\"})"
   ]
  },
  {
   "cell_type": "markdown",
   "metadata": {
    "deletable": false,
    "editable": false,
    "nbgrader": {
     "cell_type": "markdown",
     "checksum": "e70707cbfaf12e857b70456914871951",
     "grade": false,
     "grade_id": "cell-54694ffb4333c0e9",
     "locked": true,
     "schema_version": 3,
     "solution": false,
     "task": false
    }
   },
   "source": [
    "The missing values for summary statistics of the `TotalCharges` column indicate that the entries lack a numerical data type."
   ]
  },
  {
   "cell_type": "code",
   "execution_count": 8,
   "metadata": {
    "deletable": false,
    "editable": false,
    "nbgrader": {
     "cell_type": "code",
     "checksum": "b2f6f9b21f8b53953b28037fd210508a",
     "grade": false,
     "grade_id": "cell-3c98ec1a8b5bfc12",
     "locked": true,
     "schema_version": 3,
     "solution": false,
     "task": false
    }
   },
   "outputs": [],
   "source": [
    "churn_data[\"TotalCharges\"] = pd.to_numeric(churn_data[\"TotalCharges\"], errors=\"coerce\")"
   ]
  },
  {
   "cell_type": "markdown",
   "metadata": {
    "deletable": false,
    "editable": false,
    "nbgrader": {
     "cell_type": "markdown",
     "checksum": "f6390e2dc7a4aed980276101f01f1f65",
     "grade": false,
     "grade_id": "cell-54893efcd7079fd2",
     "locked": true,
     "schema_version": 3,
     "solution": false,
     "task": false
    }
   },
   "source": [
    "We have 11 records with missing values in the `TotalCharges` column. "
   ]
  },
  {
   "cell_type": "code",
   "execution_count": 9,
   "metadata": {
    "deletable": false,
    "editable": false,
    "nbgrader": {
     "cell_type": "code",
     "checksum": "eefe7115aeb34a367cffff824a825796",
     "grade": false,
     "grade_id": "cell-4b2de1472f36794e",
     "locked": true,
     "schema_version": 3,
     "solution": false,
     "task": false
    }
   },
   "outputs": [
    {
     "data": {
      "text/plain": [
       "gender               0\n",
       "SeniorCitizen        0\n",
       "Partner              0\n",
       "Dependents           0\n",
       "tenure               0\n",
       "                    ..\n",
       "PaperlessBilling     0\n",
       "PaymentMethod        0\n",
       "MonthlyCharges       0\n",
       "TotalCharges        11\n",
       "Churn                0\n",
       "Length: 20, dtype: int64"
      ]
     },
     "execution_count": 9,
     "metadata": {},
     "output_type": "execute_result"
    }
   ],
   "source": [
    "churn_data.isna().sum()"
   ]
  },
  {
   "cell_type": "markdown",
   "metadata": {
    "deletable": false,
    "editable": false,
    "nbgrader": {
     "cell_type": "markdown",
     "checksum": "617fc22854cc71ead48db33e84daab1d",
     "grade": false,
     "grade_id": "cell-d9aed660ca544fdc",
     "locked": true,
     "schema_version": 3,
     "solution": false,
     "task": false
    }
   },
   "source": [
    "Use the `pandas` function `dropna` to remove these records."
   ]
  },
  {
   "cell_type": "code",
   "execution_count": 10,
   "metadata": {
    "deletable": false,
    "nbgrader": {
     "cell_type": "code",
     "checksum": "4777d593d01a5cb649e8ee57362b3eeb",
     "grade": false,
     "grade_id": "cell-f9402d52ab5f817b",
     "locked": false,
     "schema_version": 3,
     "solution": true,
     "task": false
    }
   },
   "outputs": [],
   "source": [
    "axis = ...\n",
    "axis = 1\n",
    "# YOUR CODE HERE\n",
    "#raise NotImplementedError()\n",
    "\n",
    "churn_data = churn_data.dropna(axis = axis)"
   ]
  },
  {
   "cell_type": "code",
   "execution_count": 11,
   "metadata": {},
   "outputs": [
    {
     "data": {
      "text/plain": [
       "gender              0\n",
       "SeniorCitizen       0\n",
       "Partner             0\n",
       "Dependents          0\n",
       "tenure              0\n",
       "                   ..\n",
       "Contract            0\n",
       "PaperlessBilling    0\n",
       "PaymentMethod       0\n",
       "MonthlyCharges      0\n",
       "Churn               0\n",
       "Length: 19, dtype: int64"
      ]
     },
     "execution_count": 11,
     "metadata": {},
     "output_type": "execute_result"
    }
   ],
   "source": [
    "churn_data.isna().sum()"
   ]
  },
  {
   "cell_type": "code",
   "execution_count": 12,
   "metadata": {
    "deletable": false,
    "editable": false,
    "nbgrader": {
     "cell_type": "code",
     "checksum": "c28bb9e231cd11bc1e2cb1747c5e1cc3",
     "grade": true,
     "grade_id": "cell-9f28fe1edff47eda",
     "locked": true,
     "points": 1,
     "schema_version": 3,
     "solution": false,
     "task": false
    }
   },
   "outputs": [],
   "source": [
    "# TEST \n",
    "\n",
    "assert type(axis) == int\n"
   ]
  },
  {
   "cell_type": "markdown",
   "metadata": {
    "deletable": false,
    "editable": false,
    "nbgrader": {
     "cell_type": "markdown",
     "checksum": "57331c7799f8a8809a44ca81386c6001",
     "grade": false,
     "grade_id": "cell-75d388f2afe16730",
     "locked": true,
     "schema_version": 3,
     "solution": false,
     "task": false
    }
   },
   "source": [
    "Remember that we have categorical data and numerical data. We can uses the missing values in the summary statistics to distinguish between categorical data and numerical data. In particular, we will use the absence of a mean to indicate categorical data."
   ]
  },
  {
   "cell_type": "code",
   "execution_count": 13,
   "metadata": {
    "deletable": false,
    "editable": false,
    "nbgrader": {
     "cell_type": "code",
     "checksum": "6399d38ccc0ee3b178060f6a39f0fdfe",
     "grade": false,
     "grade_id": "cell-895f137a4fe54612",
     "locked": true,
     "schema_version": 3,
     "solution": false,
     "task": false
    }
   },
   "outputs": [],
   "source": [
    "mean_values = churn_data.describe(include=\"all\").loc[\"mean\",:]"
   ]
  },
  {
   "cell_type": "markdown",
   "metadata": {
    "deletable": false,
    "editable": false,
    "nbgrader": {
     "cell_type": "markdown",
     "checksum": "b6aa51fffc2b0a018f6787d62748a231",
     "grade": false,
     "grade_id": "cell-2991736bf96d401c",
     "locked": true,
     "schema_version": 3,
     "solution": false,
     "task": false
    }
   },
   "source": [
    "We learn that we have 16 features of categorical data type besides `Churn`."
   ]
  },
  {
   "cell_type": "code",
   "execution_count": 14,
   "metadata": {
    "deletable": false,
    "editable": false,
    "nbgrader": {
     "cell_type": "code",
     "checksum": "3bab1a5b85fb228c676cda9fb1f2c887",
     "grade": false,
     "grade_id": "cell-1a43097af1f0c140",
     "locked": true,
     "schema_version": 3,
     "solution": false,
     "task": false
    }
   },
   "outputs": [
    {
     "data": {
      "text/plain": [
       "Index(['gender', 'SeniorCitizen', 'Partner', 'Dependents', 'PhoneService',\n",
       "       'MultipleLines', 'InternetService', 'OnlineSecurity', 'OnlineBackup',\n",
       "       'DeviceProtection', 'TechSupport', 'StreamingTV', 'StreamingMovies',\n",
       "       'Contract', 'PaperlessBilling', 'PaymentMethod'],\n",
       "      dtype='object')"
      ]
     },
     "execution_count": 14,
     "metadata": {},
     "output_type": "execute_result"
    }
   ],
   "source": [
    "categorical_attributes = churn_data.columns[mean_values.isna()]\n",
    "categorical_attributes = categorical_attributes[categorical_attributes != \"Churn\" ]\n",
    "categorical_attributes"
   ]
  },
  {
   "cell_type": "markdown",
   "metadata": {
    "deletable": false,
    "editable": false,
    "nbgrader": {
     "cell_type": "markdown",
     "checksum": "a1675331e14ce2e2a9b87fb25215c9a2",
     "grade": false,
     "grade_id": "cell-1699be659b0a32c2",
     "locked": true,
     "schema_version": 3,
     "solution": false,
     "task": false
    }
   },
   "source": [
    "We learn that we have 3 features of numerical data type."
   ]
  },
  {
   "cell_type": "code",
   "execution_count": 15,
   "metadata": {
    "deletable": false,
    "editable": false,
    "nbgrader": {
     "cell_type": "code",
     "checksum": "e8e500a91aeb9f574e00abe1143a5d9a",
     "grade": false,
     "grade_id": "cell-69e0d52c08243610",
     "locked": true,
     "schema_version": 3,
     "solution": false,
     "task": false
    }
   },
   "outputs": [
    {
     "data": {
      "text/plain": [
       "Index(['tenure', 'MonthlyCharges'], dtype='object')"
      ]
     },
     "execution_count": 15,
     "metadata": {},
     "output_type": "execute_result"
    }
   ],
   "source": [
    "numerical_attributes = churn_data.columns[~mean_values.isna()]\n",
    "numerical_attributes"
   ]
  },
  {
   "cell_type": "markdown",
   "metadata": {
    "deletable": false,
    "editable": false,
    "nbgrader": {
     "cell_type": "markdown",
     "checksum": "b165e3516e8203bdc1938a65c8f09267",
     "grade": false,
     "grade_id": "cell-b2607b2589ec1c4e",
     "locked": true,
     "schema_version": 3,
     "solution": false,
     "task": false
    }
   },
   "source": [
    "We will need to convert the features of numerical data type to categorical data for the model. "
   ]
  },
  {
   "cell_type": "code",
   "execution_count": 16,
   "metadata": {},
   "outputs": [],
   "source": [
    "churn_data_processed = churn_data.copy()"
   ]
  },
  {
   "cell_type": "markdown",
   "metadata": {},
   "source": [
    "For each column, we will group the entries into \n",
    "\n",
    "- 0th - 20th percentile \n",
    "- 20th - 40th percentile\n",
    "- 40th - 60th percentile\n",
    "- 60th - 80th percentile\n",
    "- 80th - 1000th percentile\n",
    "\n",
    "We can use the `pandas` function `qcut` to label the data corresponding the ranges. Determine the value for the argument "
   ]
  },
  {
   "cell_type": "code",
   "execution_count": 17,
   "metadata": {
    "deletable": false,
    "nbgrader": {
     "cell_type": "code",
     "checksum": "7b43d26294ee207bc55ddfc4a1af3756",
     "grade": false,
     "grade_id": "cell-e51438d536f99c03",
     "locked": false,
     "schema_version": 3,
     "solution": true,
     "task": false
    }
   },
   "outputs": [],
   "source": [
    "q = ...\n",
    "q= 5\n",
    "\n",
    "# YOUR CODE HERE\n",
    "#raise NotImplementedError()\n",
    "\n",
    "for attribute in numerical_attributes:\n",
    "    churn_data_processed[attribute] = pd.qcut(churn_data_processed[attribute], q = q)"
   ]
  },
  {
   "cell_type": "code",
   "execution_count": 18,
   "metadata": {
    "deletable": false,
    "editable": false,
    "nbgrader": {
     "cell_type": "code",
     "checksum": "4b2a2e7a131329decf830800cbfb2661",
     "grade": true,
     "grade_id": "cell-c0bc884e83a06dd9",
     "locked": true,
     "points": 1,
     "schema_version": 3,
     "solution": false,
     "task": false
    }
   },
   "outputs": [],
   "source": [
    "# TEST \n",
    "\n",
    "assert len(churn_data_processed[\"tenure\"].unique()) == 5\n"
   ]
  },
  {
   "cell_type": "markdown",
   "metadata": {
    "deletable": false,
    "editable": false,
    "nbgrader": {
     "cell_type": "markdown",
     "checksum": "ebdd375604ed455b8cb34a109ea9d273",
     "grade": false,
     "grade_id": "cell-d3160ad12d9899cb",
     "locked": true,
     "schema_version": 3,
     "solution": false,
     "task": false
    }
   },
   "source": [
    "We will need to fit the model to the data. We can simplify the data with a numerical encoding for the categories. We will use the `LabelEncoder` transformation in the `sklearn` package. Note that the `sklearn` package has many helpful transformations to process data for modelling. "
   ]
  },
  {
   "cell_type": "code",
   "execution_count": 19,
   "metadata": {
    "deletable": false,
    "editable": false,
    "nbgrader": {
     "cell_type": "code",
     "checksum": "24f829325c0bd17ab01ebd6ac6587b60",
     "grade": false,
     "grade_id": "cell-56078646e2dd55e3",
     "locked": true,
     "schema_version": 3,
     "solution": false,
     "task": false
    }
   },
   "outputs": [],
   "source": [
    "encoders = dict()\n",
    "\n",
    "for attribute in churn_data.columns:\n",
    "    encoder = sklearn.preprocessing.LabelEncoder()\n",
    "    \n",
    "    churn_data_processed[attribute] = encoder.fit_transform(churn_data_processed[attribute].values)\n",
    "    \n",
    "    encoders[attribute] = encoder\n",
    "    \n",
    "    churn_data_processed[attribute] = churn_data_processed[attribute].map(lambda x : \"({},{})\".format(attribute, x))"
   ]
  },
  {
   "cell_type": "markdown",
   "metadata": {},
   "source": [
    "Note that we store the information about the encoding in the dictionary `encoders`."
   ]
  },
  {
   "cell_type": "code",
   "execution_count": 20,
   "metadata": {},
   "outputs": [
    {
     "data": {
      "text/plain": [
       "array(['Female', 'Male'], dtype=object)"
      ]
     },
     "execution_count": 20,
     "metadata": {},
     "output_type": "execute_result"
    }
   ],
   "source": [
    "encoders[\"gender\"].inverse_transform([0,1])"
   ]
  },
  {
   "cell_type": "markdown",
   "metadata": {
    "deletable": false,
    "editable": false,
    "nbgrader": {
     "cell_type": "markdown",
     "checksum": "74a8b7038b4780d51c2da8fbe3ffcb85",
     "grade": false,
     "grade_id": "cell-c638734305598cba",
     "locked": true,
     "schema_version": 3,
     "solution": false,
     "task": false
    }
   },
   "source": [
    "Which of the following options corresponds to the encoding of the `DeviceProtection` column.\n",
    "\n",
    "1. `[0,1,2]` corresponds to `['No', 'No internet service', 'Yes']`\n",
    "1. `[0,1,2]` corresponds to `['Yes', 'No internet service', 'No']`\n",
    "1. `[0,1,2]` corresponds to `['No internet service', 'No', 'Yes']`"
   ]
  },
  {
   "cell_type": "code",
   "execution_count": 21,
   "metadata": {},
   "outputs": [
    {
     "data": {
      "text/plain": [
       "array(['No', 'No internet service', 'Yes'], dtype=object)"
      ]
     },
     "execution_count": 21,
     "metadata": {},
     "output_type": "execute_result"
    }
   ],
   "source": [
    "encoders[\"DeviceProtection\"].inverse_transform([0,1,2])"
   ]
  },
  {
   "cell_type": "code",
   "execution_count": 22,
   "metadata": {},
   "outputs": [
    {
     "data": {
      "text/plain": [
       "sklearn.preprocessing._label.LabelEncoder"
      ]
     },
     "execution_count": 22,
     "metadata": {},
     "output_type": "execute_result"
    }
   ],
   "source": [
    "type(encoders[\"DeviceProtection\"])"
   ]
  },
  {
   "cell_type": "code",
   "execution_count": 23,
   "metadata": {
    "deletable": false,
    "nbgrader": {
     "cell_type": "code",
     "checksum": "62197fd4e301ead33e83cdf62be6bf95",
     "grade": false,
     "grade_id": "cell-784abe819d1c09ab",
     "locked": false,
     "schema_version": 3,
     "solution": true,
     "task": false
    }
   },
   "outputs": [
    {
     "data": {
      "text/plain": [
       "1"
      ]
     },
     "execution_count": 23,
     "metadata": {},
     "output_type": "execute_result"
    }
   ],
   "source": [
    "q_encoding = ...\n",
    "result = {\n",
    "    1 : ['No', 'No internet service', 'Yes'],\n",
    "    2 : ['Yes', 'No internet service', 'No'],\n",
    "    3 : ['No internet service', 'No', 'Yes']\n",
    "}\n",
    "output = encoders[\"DeviceProtection\"].inverse_transform([0,1,2])\n",
    "answer = (list)(output)\n",
    "for key, value in result.items():\n",
    "    if value==answer:\n",
    "        q_encoding = key\n",
    "q_encoding        \n",
    "\n",
    "# YOUR CODE HERE\n",
    "#raise NotImplementedError()"
   ]
  },
  {
   "cell_type": "code",
   "execution_count": 24,
   "metadata": {
    "deletable": false,
    "editable": false,
    "nbgrader": {
     "cell_type": "code",
     "checksum": "4e423f6699410c3615f779db65998737",
     "grade": true,
     "grade_id": "cell-664cf5b5abdb5ba1",
     "locked": true,
     "points": 1,
     "schema_version": 3,
     "solution": false,
     "task": false
    }
   },
   "outputs": [],
   "source": [
    "# TEST \n",
    "\n",
    "assert q_encoding in [1,2,3]\n"
   ]
  },
  {
   "cell_type": "markdown",
   "metadata": {
    "deletable": false,
    "editable": false,
    "nbgrader": {
     "cell_type": "markdown",
     "checksum": "f761ac945f30da9507df99c6fb557de5",
     "grade": false,
     "grade_id": "cell-52d33060c7e67d0e",
     "locked": true,
     "schema_version": 3,
     "solution": false,
     "task": false
    }
   },
   "source": [
    "Since we will use Spark MLlib to implement the model, we need to convert the rows to lists."
   ]
  },
  {
   "cell_type": "code",
   "execution_count": 25,
   "metadata": {
    "deletable": false,
    "editable": false,
    "nbgrader": {
     "cell_type": "code",
     "checksum": "7505d4c24aa1649829d6fb7507262e01",
     "grade": false,
     "grade_id": "cell-a958f44ed4aadc4c",
     "locked": true,
     "schema_version": 3,
     "solution": false,
     "task": false
    }
   },
   "outputs": [
    {
     "data": {
      "text/html": [
       "<div>\n",
       "<style scoped>\n",
       "    .dataframe tbody tr th:only-of-type {\n",
       "        vertical-align: middle;\n",
       "    }\n",
       "\n",
       "    .dataframe tbody tr th {\n",
       "        vertical-align: top;\n",
       "    }\n",
       "\n",
       "    .dataframe thead th {\n",
       "        text-align: right;\n",
       "    }\n",
       "</style>\n",
       "<table border=\"1\" class=\"dataframe\">\n",
       "  <thead>\n",
       "    <tr style=\"text-align: right;\">\n",
       "      <th></th>\n",
       "      <th>items</th>\n",
       "      <th>customerID</th>\n",
       "    </tr>\n",
       "  </thead>\n",
       "  <tbody>\n",
       "    <tr>\n",
       "      <th>0</th>\n",
       "      <td>[(gender,0), (SeniorCitizen,0), (Partner,1), (...</td>\n",
       "      <td>7590-VHVEG</td>\n",
       "    </tr>\n",
       "    <tr>\n",
       "      <th>1</th>\n",
       "      <td>[(gender,1), (SeniorCitizen,0), (Partner,0), (...</td>\n",
       "      <td>5575-GNVDE</td>\n",
       "    </tr>\n",
       "    <tr>\n",
       "      <th>2</th>\n",
       "      <td>[(gender,1), (SeniorCitizen,0), (Partner,0), (...</td>\n",
       "      <td>3668-QPYBK</td>\n",
       "    </tr>\n",
       "  </tbody>\n",
       "</table>\n",
       "</div>"
      ],
      "text/plain": [
       "                                               items  customerID\n",
       "0  [(gender,0), (SeniorCitizen,0), (Partner,1), (...  7590-VHVEG\n",
       "1  [(gender,1), (SeniorCitizen,0), (Partner,0), (...  5575-GNVDE\n",
       "2  [(gender,1), (SeniorCitizen,0), (Partner,0), (...  3668-QPYBK"
      ]
     },
     "execution_count": 25,
     "metadata": {},
     "output_type": "execute_result"
    }
   ],
   "source": [
    "churn_data_processed = churn_data_processed.apply(lambda x : list(x), axis = 1)\n",
    "\n",
    "churn_data_processed = churn_data_processed.to_frame()\n",
    "churn_data_processed.columns = [\"items\"]\n",
    "\n",
    "churn_data_processed[\"customerID\"] = customer_id\n",
    "churn_data_processed.head(3)"
   ]
  },
  {
   "cell_type": "markdown",
   "metadata": {
    "deletable": false,
    "editable": false,
    "nbgrader": {
     "cell_type": "markdown",
     "checksum": "0b6a407c0a396798a43ac6006dba5136",
     "grade": false,
     "grade_id": "cell-3c122c3d0cb94976",
     "locked": true,
     "schema_version": 3,
     "solution": false,
     "task": false
    }
   },
   "source": [
    "### Exploratory Data Analysis\n",
    "\n",
    "Before we understand the data in a quantitative way, we should try to understand the data in a qualitative way. If we find inconsistencies, inaccuracies or outliers in the records, then we can repeat the data processing. If we identify relationships in customer behavior, particularly the features linked to churn, then we could focus on these relationships in the model. Moreover we could report possible risk factors for customer churn to customer relations. Any insights into customer dissatisfaction would help to mitigate customer churn.  "
   ]
  },
  {
   "cell_type": "code",
   "execution_count": 26,
   "metadata": {
    "deletable": false,
    "editable": false,
    "nbgrader": {
     "cell_type": "code",
     "checksum": "5d3ecf1329c0e394fdcbefdfa7ebc47d",
     "grade": false,
     "grade_id": "cell-55916e331a3c5dee",
     "locked": true,
     "schema_version": 3,
     "solution": false,
     "task": false
    },
    "scrolled": true
   },
   "outputs": [
    {
     "data": {
      "image/png": "[encoded data removed]",
      "text/plain": [
       "<Figure size 648x504 with 1 Axes>"
      ]
     },
     "metadata": {},
     "output_type": "display_data"
    }
   ],
   "source": [
    "plt.pie([0.73,0.27], wedgeprops=dict(width=0.5), labels=[\"No Churn\", \"Churn\"]);"
   ]
  },
  {
   "cell_type": "markdown",
   "metadata": {
    "deletable": false,
    "editable": false,
    "nbgrader": {
     "cell_type": "markdown",
     "checksum": "8baaf64b10c17336560da2263be88868",
     "grade": false,
     "grade_id": "cell-3dc1ed21f67e0899",
     "locked": true,
     "schema_version": 3,
     "solution": false,
     "task": false
    }
   },
   "source": [
    "Aournd 25\\% of customers in the sample suspended or terminated subscription to services between `t=0` and `t=now`.\n",
    "\n",
    "Use the `pandas` function `value_counts` to determine the number of customers records with `Yes` and `No` in the `Churn` column of `churn_dataset`."
   ]
  },
  {
   "cell_type": "code",
   "execution_count": 27,
   "metadata": {
    "deletable": false,
    "nbgrader": {
     "cell_type": "code",
     "checksum": "95a72dcfadc61e06b1a3b6bcda756da6",
     "grade": false,
     "grade_id": "cell-1b36804e1a6e6f10",
     "locked": false,
     "schema_version": 3,
     "solution": true,
     "task": false
    }
   },
   "outputs": [],
   "source": [
    "number_yes = ...\n",
    "number_no = ...\n",
    "result = churn_data['Churn'].value_counts()\n",
    "number_yes = result[1]\n",
    "number_no = result[0]\n",
    "\n",
    "# YOUR CODE HERE\n",
    "#raise NotImplementedError()"
   ]
  },
  {
   "cell_type": "code",
   "execution_count": 28,
   "metadata": {
    "deletable": false,
    "editable": false,
    "nbgrader": {
     "cell_type": "code",
     "checksum": "e5fa70afcd3040f5cac2fe960a76982d",
     "grade": true,
     "grade_id": "cell-a459952b48d88b7b",
     "locked": true,
     "points": 1,
     "schema_version": 3,
     "solution": false,
     "task": false
    }
   },
   "outputs": [],
   "source": [
    "# TEST \n",
    "\n",
    "assert 1000 <= number_yes < 2000\n",
    "assert 5000 <= number_no < 6000\n"
   ]
  },
  {
   "cell_type": "markdown",
   "metadata": {
    "deletable": false,
    "editable": false,
    "nbgrader": {
     "cell_type": "markdown",
     "checksum": "bcd122171c4ad7cb9da4129c65b2d788",
     "grade": false,
     "grade_id": "cell-324e26c7363e438d",
     "locked": true,
     "schema_version": 3,
     "solution": false,
     "task": false
    }
   },
   "source": [
    "Remember that we have 16 features of categorical data type. For each feature we can generate a bar-chart. The bar-chart shows the distribution of `Yes` and `No` in the `Churn` columns for the different values of the features."
   ]
  },
  {
   "cell_type": "code",
   "execution_count": 29,
   "metadata": {
    "deletable": false,
    "editable": false,
    "nbgrader": {
     "cell_type": "code",
     "checksum": "5d1c3a2137658c7a31c06c0b2ff966c9",
     "grade": false,
     "grade_id": "cell-e448d7bbf3a28ba3",
     "locked": true,
     "schema_version": 3,
     "solution": false,
     "task": false
    }
   },
   "outputs": [
    {
     "data": {
      "image/png": "[encoded data removed]",
      "text/plain": [
       "<IPython.core.display.Image object>"
      ]
     },
     "execution_count": 29,
     "metadata": {},
     "output_type": "execute_result"
    }
   ],
   "source": [
    "Image(path_images + \"barchart_1.png\")"
   ]
  },
  {
   "cell_type": "markdown",
   "metadata": {
    "deletable": false,
    "editable": false,
    "nbgrader": {
     "cell_type": "markdown",
     "checksum": "70eed319d9f271e791cd01cc40838d2f",
     "grade": false,
     "grade_id": "cell-70321d8426f6a498",
     "locked": true,
     "schema_version": 3,
     "solution": false,
     "task": false
    }
   },
   "source": [
    "We want to determine features that distinguish between `Yes` and `No` in the `Churn` column. If the bar-chart indicates a division between `Yes` and `No` among the values of the features, then the feature has a close relationship with `Churn`. "
   ]
  },
  {
   "cell_type": "code",
   "execution_count": 30,
   "metadata": {
    "deletable": false,
    "editable": false,
    "nbgrader": {
     "cell_type": "code",
     "checksum": "f0161aeea6fa45683a3ab55c6502471d",
     "grade": false,
     "grade_id": "cell-bacaaa4b94b4794e",
     "locked": true,
     "schema_version": 3,
     "solution": false,
     "task": false
    }
   },
   "outputs": [
    {
     "data": {
      "image/png": "[encoded data removed]",
      "text/plain": [
       "<IPython.core.display.Image object>"
      ]
     },
     "execution_count": 30,
     "metadata": {},
     "output_type": "execute_result"
    }
   ],
   "source": [
    "Image(path_images + \"barchart_3.png\")"
   ]
  },
  {
   "cell_type": "markdown",
   "metadata": {
    "deletable": false,
    "editable": false,
    "nbgrader": {
     "cell_type": "markdown",
     "checksum": "6bfb0ee21a3079853d427a808b7bfdef",
     "grade": false,
     "grade_id": "cell-c781af491d77fac1",
     "locked": true,
     "schema_version": 3,
     "solution": false,
     "task": false
    }
   },
   "source": [
    "If the bar-chart does not indicate a division between `Yes` and `No` among the values of the features, then the feature does not have a close relationship with `Churn`. The values of the feature cannot help us to predict `Churn`."
   ]
  },
  {
   "cell_type": "code",
   "execution_count": 31,
   "metadata": {
    "deletable": false,
    "editable": false,
    "nbgrader": {
     "cell_type": "code",
     "checksum": "542fbe2725871ca0b14bf62e879fb334",
     "grade": false,
     "grade_id": "cell-2eac2bd6ce248b18",
     "locked": true,
     "schema_version": 3,
     "solution": false,
     "task": false
    }
   },
   "outputs": [
    {
     "data": {
      "image/png": "[encoded data removed]",
      "text/plain": [
       "<IPython.core.display.Image object>"
      ]
     },
     "execution_count": 31,
     "metadata": {},
     "output_type": "execute_result"
    }
   ],
   "source": [
    "Image(path_images + \"barchart_2.png\")"
   ]
  },
  {
   "cell_type": "markdown",
   "metadata": {},
   "source": [
    "Commonly, we find some division in the bar-chart between `Yes` and `No` among the values of the features. Based on the different portions between `Yes` and `No`, we can assess the strenght of the relationship with `Churn`. We might be able predict `Churn`. However, we might not have a reliable prediction."
   ]
  },
  {
   "cell_type": "code",
   "execution_count": 32,
   "metadata": {
    "deletable": false,
    "editable": false,
    "nbgrader": {
     "cell_type": "code",
     "checksum": "e8056a26944dd4b5cf3f854467073302",
     "grade": false,
     "grade_id": "cell-57dd7965ceaf1d7a",
     "locked": true,
     "schema_version": 3,
     "solution": false,
     "task": false
    }
   },
   "outputs": [
    {
     "data": {
      "image/png": "[encoded data removed]",
      "text/plain": [
       "<Figure size 1440x1440 with 16 Axes>"
      ]
     },
     "metadata": {
      "needs_background": "light"
     },
     "output_type": "display_data"
    }
   ],
   "source": [
    "fig, axes = plt.subplots(4,4, figsize = (20,20))\n",
    "\n",
    "for attribute, ax in zip(categorical_attributes, axes.flatten()):\n",
    "    sns.countplot(x = attribute, hue=\"Churn\", data = churn_data, ax = ax)\n",
    "\n",
    "plt.xticks(rotation = 45);"
   ]
  },
  {
   "cell_type": "code",
   "execution_count": 33,
   "metadata": {},
   "outputs": [
    {
     "data": {
      "text/html": [
       "<div>\n",
       "<style scoped>\n",
       "    .dataframe tbody tr th:only-of-type {\n",
       "        vertical-align: middle;\n",
       "    }\n",
       "\n",
       "    .dataframe tbody tr th {\n",
       "        vertical-align: top;\n",
       "    }\n",
       "\n",
       "    .dataframe thead th {\n",
       "        text-align: right;\n",
       "    }\n",
       "</style>\n",
       "<table border=\"1\" class=\"dataframe\">\n",
       "  <thead>\n",
       "    <tr style=\"text-align: right;\">\n",
       "      <th></th>\n",
       "      <th>tenure</th>\n",
       "      <th>MonthlyCharges</th>\n",
       "    </tr>\n",
       "  </thead>\n",
       "  <tbody>\n",
       "    <tr>\n",
       "      <th>tenure</th>\n",
       "      <td>1.0000</td>\n",
       "      <td>0.2479</td>\n",
       "    </tr>\n",
       "    <tr>\n",
       "      <th>MonthlyCharges</th>\n",
       "      <td>0.2479</td>\n",
       "      <td>1.0000</td>\n",
       "    </tr>\n",
       "  </tbody>\n",
       "</table>\n",
       "</div>"
      ],
      "text/plain": [
       "                tenure  MonthlyCharges\n",
       "tenure          1.0000          0.2479\n",
       "MonthlyCharges  0.2479          1.0000"
      ]
     },
     "execution_count": 33,
     "metadata": {},
     "output_type": "execute_result"
    }
   ],
   "source": [
    "churn_data.corr()"
   ]
  },
  {
   "cell_type": "code",
   "execution_count": 34,
   "metadata": {},
   "outputs": [
    {
     "data": {
      "text/html": [
       "<div>\n",
       "<style scoped>\n",
       "    .dataframe tbody tr th:only-of-type {\n",
       "        vertical-align: middle;\n",
       "    }\n",
       "\n",
       "    .dataframe tbody tr th {\n",
       "        vertical-align: top;\n",
       "    }\n",
       "\n",
       "    .dataframe thead th {\n",
       "        text-align: right;\n",
       "    }\n",
       "</style>\n",
       "<table border=\"1\" class=\"dataframe\">\n",
       "  <thead>\n",
       "    <tr style=\"text-align: right;\">\n",
       "      <th></th>\n",
       "      <th>gender</th>\n",
       "      <th>SeniorCitizen</th>\n",
       "      <th>Partner</th>\n",
       "      <th>Dependents</th>\n",
       "      <th>tenure</th>\n",
       "      <th>PhoneService</th>\n",
       "      <th>MultipleLines</th>\n",
       "      <th>InternetService</th>\n",
       "      <th>OnlineSecurity</th>\n",
       "      <th>OnlineBackup</th>\n",
       "      <th>DeviceProtection</th>\n",
       "      <th>TechSupport</th>\n",
       "      <th>StreamingTV</th>\n",
       "      <th>StreamingMovies</th>\n",
       "      <th>Contract</th>\n",
       "      <th>PaperlessBilling</th>\n",
       "      <th>PaymentMethod</th>\n",
       "      <th>MonthlyCharges</th>\n",
       "      <th>Churn</th>\n",
       "    </tr>\n",
       "  </thead>\n",
       "  <tbody>\n",
       "    <tr>\n",
       "      <th>0</th>\n",
       "      <td>Female</td>\n",
       "      <td>No</td>\n",
       "      <td>Yes</td>\n",
       "      <td>No</td>\n",
       "      <td>1</td>\n",
       "      <td>No</td>\n",
       "      <td>No phone service</td>\n",
       "      <td>DSL</td>\n",
       "      <td>No</td>\n",
       "      <td>Yes</td>\n",
       "      <td>No</td>\n",
       "      <td>No</td>\n",
       "      <td>No</td>\n",
       "      <td>No</td>\n",
       "      <td>Month-to-month</td>\n",
       "      <td>Yes</td>\n",
       "      <td>Electronic check</td>\n",
       "      <td>29.85</td>\n",
       "      <td>No</td>\n",
       "    </tr>\n",
       "    <tr>\n",
       "      <th>1</th>\n",
       "      <td>Male</td>\n",
       "      <td>No</td>\n",
       "      <td>No</td>\n",
       "      <td>No</td>\n",
       "      <td>34</td>\n",
       "      <td>Yes</td>\n",
       "      <td>No</td>\n",
       "      <td>DSL</td>\n",
       "      <td>Yes</td>\n",
       "      <td>No</td>\n",
       "      <td>Yes</td>\n",
       "      <td>No</td>\n",
       "      <td>No</td>\n",
       "      <td>No</td>\n",
       "      <td>One year</td>\n",
       "      <td>No</td>\n",
       "      <td>Mailed check</td>\n",
       "      <td>56.95</td>\n",
       "      <td>No</td>\n",
       "    </tr>\n",
       "    <tr>\n",
       "      <th>2</th>\n",
       "      <td>Male</td>\n",
       "      <td>No</td>\n",
       "      <td>No</td>\n",
       "      <td>No</td>\n",
       "      <td>2</td>\n",
       "      <td>Yes</td>\n",
       "      <td>No</td>\n",
       "      <td>DSL</td>\n",
       "      <td>Yes</td>\n",
       "      <td>Yes</td>\n",
       "      <td>No</td>\n",
       "      <td>No</td>\n",
       "      <td>No</td>\n",
       "      <td>No</td>\n",
       "      <td>Month-to-month</td>\n",
       "      <td>Yes</td>\n",
       "      <td>Mailed check</td>\n",
       "      <td>53.85</td>\n",
       "      <td>Yes</td>\n",
       "    </tr>\n",
       "    <tr>\n",
       "      <th>3</th>\n",
       "      <td>Male</td>\n",
       "      <td>No</td>\n",
       "      <td>No</td>\n",
       "      <td>No</td>\n",
       "      <td>45</td>\n",
       "      <td>No</td>\n",
       "      <td>No phone service</td>\n",
       "      <td>DSL</td>\n",
       "      <td>Yes</td>\n",
       "      <td>No</td>\n",
       "      <td>Yes</td>\n",
       "      <td>Yes</td>\n",
       "      <td>No</td>\n",
       "      <td>No</td>\n",
       "      <td>One year</td>\n",
       "      <td>No</td>\n",
       "      <td>Bank transfer (automatic)</td>\n",
       "      <td>42.30</td>\n",
       "      <td>No</td>\n",
       "    </tr>\n",
       "    <tr>\n",
       "      <th>4</th>\n",
       "      <td>Female</td>\n",
       "      <td>No</td>\n",
       "      <td>No</td>\n",
       "      <td>No</td>\n",
       "      <td>2</td>\n",
       "      <td>Yes</td>\n",
       "      <td>No</td>\n",
       "      <td>Fiber optic</td>\n",
       "      <td>No</td>\n",
       "      <td>No</td>\n",
       "      <td>No</td>\n",
       "      <td>No</td>\n",
       "      <td>No</td>\n",
       "      <td>No</td>\n",
       "      <td>Month-to-month</td>\n",
       "      <td>Yes</td>\n",
       "      <td>Electronic check</td>\n",
       "      <td>70.70</td>\n",
       "      <td>Yes</td>\n",
       "    </tr>\n",
       "    <tr>\n",
       "      <th>...</th>\n",
       "      <td>...</td>\n",
       "      <td>...</td>\n",
       "      <td>...</td>\n",
       "      <td>...</td>\n",
       "      <td>...</td>\n",
       "      <td>...</td>\n",
       "      <td>...</td>\n",
       "      <td>...</td>\n",
       "      <td>...</td>\n",
       "      <td>...</td>\n",
       "      <td>...</td>\n",
       "      <td>...</td>\n",
       "      <td>...</td>\n",
       "      <td>...</td>\n",
       "      <td>...</td>\n",
       "      <td>...</td>\n",
       "      <td>...</td>\n",
       "      <td>...</td>\n",
       "      <td>...</td>\n",
       "    </tr>\n",
       "    <tr>\n",
       "      <th>7038</th>\n",
       "      <td>Male</td>\n",
       "      <td>No</td>\n",
       "      <td>Yes</td>\n",
       "      <td>Yes</td>\n",
       "      <td>24</td>\n",
       "      <td>Yes</td>\n",
       "      <td>Yes</td>\n",
       "      <td>DSL</td>\n",
       "      <td>Yes</td>\n",
       "      <td>No</td>\n",
       "      <td>Yes</td>\n",
       "      <td>Yes</td>\n",
       "      <td>Yes</td>\n",
       "      <td>Yes</td>\n",
       "      <td>One year</td>\n",
       "      <td>Yes</td>\n",
       "      <td>Mailed check</td>\n",
       "      <td>84.80</td>\n",
       "      <td>No</td>\n",
       "    </tr>\n",
       "    <tr>\n",
       "      <th>7039</th>\n",
       "      <td>Female</td>\n",
       "      <td>No</td>\n",
       "      <td>Yes</td>\n",
       "      <td>Yes</td>\n",
       "      <td>72</td>\n",
       "      <td>Yes</td>\n",
       "      <td>Yes</td>\n",
       "      <td>Fiber optic</td>\n",
       "      <td>No</td>\n",
       "      <td>Yes</td>\n",
       "      <td>Yes</td>\n",
       "      <td>No</td>\n",
       "      <td>Yes</td>\n",
       "      <td>Yes</td>\n",
       "      <td>One year</td>\n",
       "      <td>Yes</td>\n",
       "      <td>Credit card (automatic)</td>\n",
       "      <td>103.20</td>\n",
       "      <td>No</td>\n",
       "    </tr>\n",
       "    <tr>\n",
       "      <th>7040</th>\n",
       "      <td>Female</td>\n",
       "      <td>No</td>\n",
       "      <td>Yes</td>\n",
       "      <td>Yes</td>\n",
       "      <td>11</td>\n",
       "      <td>No</td>\n",
       "      <td>No phone service</td>\n",
       "      <td>DSL</td>\n",
       "      <td>Yes</td>\n",
       "      <td>No</td>\n",
       "      <td>No</td>\n",
       "      <td>No</td>\n",
       "      <td>No</td>\n",
       "      <td>No</td>\n",
       "      <td>Month-to-month</td>\n",
       "      <td>Yes</td>\n",
       "      <td>Electronic check</td>\n",
       "      <td>29.60</td>\n",
       "      <td>No</td>\n",
       "    </tr>\n",
       "    <tr>\n",
       "      <th>7041</th>\n",
       "      <td>Male</td>\n",
       "      <td>Yes</td>\n",
       "      <td>Yes</td>\n",
       "      <td>No</td>\n",
       "      <td>4</td>\n",
       "      <td>Yes</td>\n",
       "      <td>Yes</td>\n",
       "      <td>Fiber optic</td>\n",
       "      <td>No</td>\n",
       "      <td>No</td>\n",
       "      <td>No</td>\n",
       "      <td>No</td>\n",
       "      <td>No</td>\n",
       "      <td>No</td>\n",
       "      <td>Month-to-month</td>\n",
       "      <td>Yes</td>\n",
       "      <td>Mailed check</td>\n",
       "      <td>74.40</td>\n",
       "      <td>Yes</td>\n",
       "    </tr>\n",
       "    <tr>\n",
       "      <th>7042</th>\n",
       "      <td>Male</td>\n",
       "      <td>No</td>\n",
       "      <td>No</td>\n",
       "      <td>No</td>\n",
       "      <td>66</td>\n",
       "      <td>Yes</td>\n",
       "      <td>No</td>\n",
       "      <td>Fiber optic</td>\n",
       "      <td>Yes</td>\n",
       "      <td>No</td>\n",
       "      <td>Yes</td>\n",
       "      <td>Yes</td>\n",
       "      <td>Yes</td>\n",
       "      <td>Yes</td>\n",
       "      <td>Two year</td>\n",
       "      <td>Yes</td>\n",
       "      <td>Bank transfer (automatic)</td>\n",
       "      <td>105.65</td>\n",
       "      <td>No</td>\n",
       "    </tr>\n",
       "  </tbody>\n",
       "</table>\n",
       "<p>7043 rows × 19 columns</p>\n",
       "</div>"
      ],
      "text/plain": [
       "      gender SeniorCitizen Partner Dependents  tenure PhoneService  \\\n",
       "0     Female            No     Yes         No       1           No   \n",
       "1       Male            No      No         No      34          Yes   \n",
       "2       Male            No      No         No       2          Yes   \n",
       "3       Male            No      No         No      45           No   \n",
       "4     Female            No      No         No       2          Yes   \n",
       "...      ...           ...     ...        ...     ...          ...   \n",
       "7038    Male            No     Yes        Yes      24          Yes   \n",
       "7039  Female            No     Yes        Yes      72          Yes   \n",
       "7040  Female            No     Yes        Yes      11           No   \n",
       "7041    Male           Yes     Yes         No       4          Yes   \n",
       "7042    Male            No      No         No      66          Yes   \n",
       "\n",
       "         MultipleLines InternetService OnlineSecurity OnlineBackup  \\\n",
       "0     No phone service             DSL             No          Yes   \n",
       "1                   No             DSL            Yes           No   \n",
       "2                   No             DSL            Yes          Yes   \n",
       "3     No phone service             DSL            Yes           No   \n",
       "4                   No     Fiber optic             No           No   \n",
       "...                ...             ...            ...          ...   \n",
       "7038               Yes             DSL            Yes           No   \n",
       "7039               Yes     Fiber optic             No          Yes   \n",
       "7040  No phone service             DSL            Yes           No   \n",
       "7041               Yes     Fiber optic             No           No   \n",
       "7042                No     Fiber optic            Yes           No   \n",
       "\n",
       "     DeviceProtection TechSupport StreamingTV StreamingMovies        Contract  \\\n",
       "0                  No          No          No              No  Month-to-month   \n",
       "1                 Yes          No          No              No        One year   \n",
       "2                  No          No          No              No  Month-to-month   \n",
       "3                 Yes         Yes          No              No        One year   \n",
       "4                  No          No          No              No  Month-to-month   \n",
       "...               ...         ...         ...             ...             ...   \n",
       "7038              Yes         Yes         Yes             Yes        One year   \n",
       "7039              Yes          No         Yes             Yes        One year   \n",
       "7040               No          No          No              No  Month-to-month   \n",
       "7041               No          No          No              No  Month-to-month   \n",
       "7042              Yes         Yes         Yes             Yes        Two year   \n",
       "\n",
       "     PaperlessBilling              PaymentMethod  MonthlyCharges Churn  \n",
       "0                 Yes           Electronic check           29.85    No  \n",
       "1                  No               Mailed check           56.95    No  \n",
       "2                 Yes               Mailed check           53.85   Yes  \n",
       "3                  No  Bank transfer (automatic)           42.30    No  \n",
       "4                 Yes           Electronic check           70.70   Yes  \n",
       "...               ...                        ...             ...   ...  \n",
       "7038              Yes               Mailed check           84.80    No  \n",
       "7039              Yes    Credit card (automatic)          103.20    No  \n",
       "7040              Yes           Electronic check           29.60    No  \n",
       "7041              Yes               Mailed check           74.40   Yes  \n",
       "7042              Yes  Bank transfer (automatic)          105.65    No  \n",
       "\n",
       "[7043 rows x 19 columns]"
      ]
     },
     "execution_count": 34,
     "metadata": {},
     "output_type": "execute_result"
    }
   ],
   "source": [
    "churn_data"
   ]
  },
  {
   "cell_type": "code",
   "execution_count": 35,
   "metadata": {},
   "outputs": [],
   "source": [
    "gender = churn_data['gender']\n",
    "partner = churn_data['Partner']\n",
    "churn = churn_data['Churn']\n",
    "\n",
    "gender_diff = 0\n",
    "partner_diff = 0\n",
    "\n",
    "\n",
    "\n",
    "for i in range(0,len(gender)):\n",
    "    if gender[i]=='Male' and churn[i]=='Yes':\n",
    "        gender_diff = gender_diff + 1;\n",
    "    if gender[i]=='Male' and churn[i]=='No':\n",
    "        gender_diff = gender_diff - 1;\n",
    "    if gender[i]=='Female' and churn[i]=='Yes':\n",
    "        gender_diff = gender_diff + 1;\n",
    "    if gender[i]=='Female' and churn[i]=='No':\n",
    "        gender_diff = gender_diff - 1;\n",
    "gender_diff = abs(gender_diff)\n",
    "\n",
    "for i in range(0,len(partner)):\n",
    "    if partner[i]=='Yes' and churn[i]=='Yes':\n",
    "        partner_diff = partner_diff + 1;\n",
    "    if partner[i]=='No' and churn[i]=='No':\n",
    "        partner_diff = partner_diff - 1;\n",
    "    if partner[i]=='Yes' and churn[i]=='Yes':\n",
    "        partner_diff = partner_diff + 1;\n",
    "    if partner[i]=='No' and churn[i]=='No':\n",
    "        partner_diff = partner_diff - 1;\n",
    "partner_diff = abs(partner_diff)\n",
    "\n",
    "        \n"
   ]
  },
  {
   "cell_type": "markdown",
   "metadata": {
    "deletable": false,
    "editable": false,
    "nbgrader": {
     "cell_type": "markdown",
     "checksum": "0ae4f358f0b9532a40205c2e6c1c2534",
     "grade": false,
     "grade_id": "cell-81cb66a0baf66d09",
     "locked": true,
     "schema_version": 3,
     "solution": false,
     "task": false
    }
   },
   "source": [
    "__True or False__ : Based on the bar-chart, the feature `gender` would be a better predictor of `Churn` than the feature  `Partner`."
   ]
  },
  {
   "cell_type": "code",
   "execution_count": 36,
   "metadata": {
    "deletable": false,
    "nbgrader": {
     "cell_type": "code",
     "checksum": "9f1ff1e11f1410e65a8f4f8468603531",
     "grade": false,
     "grade_id": "cell-21e8a8e89f3eae10",
     "locked": false,
     "schema_version": 3,
     "solution": true,
     "task": false
    }
   },
   "outputs": [
    {
     "data": {
      "text/plain": [
       "False"
      ]
     },
     "execution_count": 36,
     "metadata": {},
     "output_type": "execute_result"
    }
   ],
   "source": [
    "q_barchart_1 = ...\n",
    "\n",
    "#False\n",
    "q_barchart_1 = gender_diff > partner_diff\n",
    "q_barchart_1\n",
    "# YOUR CODE HERE\n",
    "#raise NotImplementedError()"
   ]
  },
  {
   "cell_type": "code",
   "execution_count": 37,
   "metadata": {
    "deletable": false,
    "editable": false,
    "nbgrader": {
     "cell_type": "code",
     "checksum": "1e8bcfa4bbe9c51d0987213cdf8770a2",
     "grade": true,
     "grade_id": "cell-f97a70b62ae128b2",
     "locked": true,
     "points": 1,
     "schema_version": 3,
     "solution": false,
     "task": false
    }
   },
   "outputs": [],
   "source": [
    "# TEST \n",
    "\n",
    "assert q_barchart_1 in [True, False]\n"
   ]
  },
  {
   "cell_type": "markdown",
   "metadata": {
    "deletable": false,
    "editable": false,
    "nbgrader": {
     "cell_type": "markdown",
     "checksum": "5f69e85041085f284109134b200092d9",
     "grade": false,
     "grade_id": "cell-59f43638f49c28d6",
     "locked": true,
     "schema_version": 3,
     "solution": false,
     "task": false
    }
   },
   "source": [
    "__True or False__ : Based on the scatter-plots, the value `Electronic check` for the feature `PaymentMethod` would be a risk factor for `Yes` in `Churn`."
   ]
  },
  {
   "cell_type": "code",
   "execution_count": 38,
   "metadata": {
    "deletable": false,
    "nbgrader": {
     "cell_type": "code",
     "checksum": "15594f6f586316b8698e75ed9969f08c",
     "grade": false,
     "grade_id": "cell-cb41ffd57454e4b5",
     "locked": false,
     "schema_version": 3,
     "solution": true,
     "task": false
    }
   },
   "outputs": [],
   "source": [
    "q_barchart_2 = ...\n",
    "q_barchart_2 = True\n",
    "\n",
    "# YOUR CODE HERE\n",
    "#raise NotImplementedError()"
   ]
  },
  {
   "cell_type": "code",
   "execution_count": 39,
   "metadata": {
    "deletable": false,
    "editable": false,
    "nbgrader": {
     "cell_type": "code",
     "checksum": "7aa4e62b1ed967d875c1a8f68c175143",
     "grade": true,
     "grade_id": "cell-b1929e72fef01da0",
     "locked": true,
     "points": 1,
     "schema_version": 3,
     "solution": false,
     "task": false
    }
   },
   "outputs": [],
   "source": [
    "# TEST \n",
    "\n",
    "assert q_barchart_2 in [True, False]\n"
   ]
  },
  {
   "cell_type": "code",
   "execution_count": 40,
   "metadata": {},
   "outputs": [
    {
     "data": {
      "text/html": [
       "<div>\n",
       "<style scoped>\n",
       "    .dataframe tbody tr th:only-of-type {\n",
       "        vertical-align: middle;\n",
       "    }\n",
       "\n",
       "    .dataframe tbody tr th {\n",
       "        vertical-align: top;\n",
       "    }\n",
       "\n",
       "    .dataframe thead th {\n",
       "        text-align: right;\n",
       "    }\n",
       "</style>\n",
       "<table border=\"1\" class=\"dataframe\">\n",
       "  <thead>\n",
       "    <tr style=\"text-align: right;\">\n",
       "      <th></th>\n",
       "      <th>gender</th>\n",
       "      <th>SeniorCitizen</th>\n",
       "      <th>Partner</th>\n",
       "      <th>Dependents</th>\n",
       "      <th>tenure</th>\n",
       "      <th>PhoneService</th>\n",
       "      <th>MultipleLines</th>\n",
       "      <th>InternetService</th>\n",
       "      <th>OnlineSecurity</th>\n",
       "      <th>OnlineBackup</th>\n",
       "      <th>DeviceProtection</th>\n",
       "      <th>TechSupport</th>\n",
       "      <th>StreamingTV</th>\n",
       "      <th>StreamingMovies</th>\n",
       "      <th>Contract</th>\n",
       "      <th>PaperlessBilling</th>\n",
       "      <th>PaymentMethod</th>\n",
       "      <th>MonthlyCharges</th>\n",
       "      <th>Churn</th>\n",
       "    </tr>\n",
       "  </thead>\n",
       "  <tbody>\n",
       "    <tr>\n",
       "      <th>0</th>\n",
       "      <td>Female</td>\n",
       "      <td>No</td>\n",
       "      <td>Yes</td>\n",
       "      <td>No</td>\n",
       "      <td>1</td>\n",
       "      <td>No</td>\n",
       "      <td>No phone service</td>\n",
       "      <td>DSL</td>\n",
       "      <td>No</td>\n",
       "      <td>Yes</td>\n",
       "      <td>No</td>\n",
       "      <td>No</td>\n",
       "      <td>No</td>\n",
       "      <td>No</td>\n",
       "      <td>Month-to-month</td>\n",
       "      <td>Yes</td>\n",
       "      <td>Electronic check</td>\n",
       "      <td>29.85</td>\n",
       "      <td>No</td>\n",
       "    </tr>\n",
       "    <tr>\n",
       "      <th>1</th>\n",
       "      <td>Male</td>\n",
       "      <td>No</td>\n",
       "      <td>No</td>\n",
       "      <td>No</td>\n",
       "      <td>34</td>\n",
       "      <td>Yes</td>\n",
       "      <td>No</td>\n",
       "      <td>DSL</td>\n",
       "      <td>Yes</td>\n",
       "      <td>No</td>\n",
       "      <td>Yes</td>\n",
       "      <td>No</td>\n",
       "      <td>No</td>\n",
       "      <td>No</td>\n",
       "      <td>One year</td>\n",
       "      <td>No</td>\n",
       "      <td>Mailed check</td>\n",
       "      <td>56.95</td>\n",
       "      <td>No</td>\n",
       "    </tr>\n",
       "    <tr>\n",
       "      <th>2</th>\n",
       "      <td>Male</td>\n",
       "      <td>No</td>\n",
       "      <td>No</td>\n",
       "      <td>No</td>\n",
       "      <td>2</td>\n",
       "      <td>Yes</td>\n",
       "      <td>No</td>\n",
       "      <td>DSL</td>\n",
       "      <td>Yes</td>\n",
       "      <td>Yes</td>\n",
       "      <td>No</td>\n",
       "      <td>No</td>\n",
       "      <td>No</td>\n",
       "      <td>No</td>\n",
       "      <td>Month-to-month</td>\n",
       "      <td>Yes</td>\n",
       "      <td>Mailed check</td>\n",
       "      <td>53.85</td>\n",
       "      <td>Yes</td>\n",
       "    </tr>\n",
       "    <tr>\n",
       "      <th>3</th>\n",
       "      <td>Male</td>\n",
       "      <td>No</td>\n",
       "      <td>No</td>\n",
       "      <td>No</td>\n",
       "      <td>45</td>\n",
       "      <td>No</td>\n",
       "      <td>No phone service</td>\n",
       "      <td>DSL</td>\n",
       "      <td>Yes</td>\n",
       "      <td>No</td>\n",
       "      <td>Yes</td>\n",
       "      <td>Yes</td>\n",
       "      <td>No</td>\n",
       "      <td>No</td>\n",
       "      <td>One year</td>\n",
       "      <td>No</td>\n",
       "      <td>Bank transfer (automatic)</td>\n",
       "      <td>42.30</td>\n",
       "      <td>No</td>\n",
       "    </tr>\n",
       "    <tr>\n",
       "      <th>4</th>\n",
       "      <td>Female</td>\n",
       "      <td>No</td>\n",
       "      <td>No</td>\n",
       "      <td>No</td>\n",
       "      <td>2</td>\n",
       "      <td>Yes</td>\n",
       "      <td>No</td>\n",
       "      <td>Fiber optic</td>\n",
       "      <td>No</td>\n",
       "      <td>No</td>\n",
       "      <td>No</td>\n",
       "      <td>No</td>\n",
       "      <td>No</td>\n",
       "      <td>No</td>\n",
       "      <td>Month-to-month</td>\n",
       "      <td>Yes</td>\n",
       "      <td>Electronic check</td>\n",
       "      <td>70.70</td>\n",
       "      <td>Yes</td>\n",
       "    </tr>\n",
       "    <tr>\n",
       "      <th>...</th>\n",
       "      <td>...</td>\n",
       "      <td>...</td>\n",
       "      <td>...</td>\n",
       "      <td>...</td>\n",
       "      <td>...</td>\n",
       "      <td>...</td>\n",
       "      <td>...</td>\n",
       "      <td>...</td>\n",
       "      <td>...</td>\n",
       "      <td>...</td>\n",
       "      <td>...</td>\n",
       "      <td>...</td>\n",
       "      <td>...</td>\n",
       "      <td>...</td>\n",
       "      <td>...</td>\n",
       "      <td>...</td>\n",
       "      <td>...</td>\n",
       "      <td>...</td>\n",
       "      <td>...</td>\n",
       "    </tr>\n",
       "    <tr>\n",
       "      <th>7038</th>\n",
       "      <td>Male</td>\n",
       "      <td>No</td>\n",
       "      <td>Yes</td>\n",
       "      <td>Yes</td>\n",
       "      <td>24</td>\n",
       "      <td>Yes</td>\n",
       "      <td>Yes</td>\n",
       "      <td>DSL</td>\n",
       "      <td>Yes</td>\n",
       "      <td>No</td>\n",
       "      <td>Yes</td>\n",
       "      <td>Yes</td>\n",
       "      <td>Yes</td>\n",
       "      <td>Yes</td>\n",
       "      <td>One year</td>\n",
       "      <td>Yes</td>\n",
       "      <td>Mailed check</td>\n",
       "      <td>84.80</td>\n",
       "      <td>No</td>\n",
       "    </tr>\n",
       "    <tr>\n",
       "      <th>7039</th>\n",
       "      <td>Female</td>\n",
       "      <td>No</td>\n",
       "      <td>Yes</td>\n",
       "      <td>Yes</td>\n",
       "      <td>72</td>\n",
       "      <td>Yes</td>\n",
       "      <td>Yes</td>\n",
       "      <td>Fiber optic</td>\n",
       "      <td>No</td>\n",
       "      <td>Yes</td>\n",
       "      <td>Yes</td>\n",
       "      <td>No</td>\n",
       "      <td>Yes</td>\n",
       "      <td>Yes</td>\n",
       "      <td>One year</td>\n",
       "      <td>Yes</td>\n",
       "      <td>Credit card (automatic)</td>\n",
       "      <td>103.20</td>\n",
       "      <td>No</td>\n",
       "    </tr>\n",
       "    <tr>\n",
       "      <th>7040</th>\n",
       "      <td>Female</td>\n",
       "      <td>No</td>\n",
       "      <td>Yes</td>\n",
       "      <td>Yes</td>\n",
       "      <td>11</td>\n",
       "      <td>No</td>\n",
       "      <td>No phone service</td>\n",
       "      <td>DSL</td>\n",
       "      <td>Yes</td>\n",
       "      <td>No</td>\n",
       "      <td>No</td>\n",
       "      <td>No</td>\n",
       "      <td>No</td>\n",
       "      <td>No</td>\n",
       "      <td>Month-to-month</td>\n",
       "      <td>Yes</td>\n",
       "      <td>Electronic check</td>\n",
       "      <td>29.60</td>\n",
       "      <td>No</td>\n",
       "    </tr>\n",
       "    <tr>\n",
       "      <th>7041</th>\n",
       "      <td>Male</td>\n",
       "      <td>Yes</td>\n",
       "      <td>Yes</td>\n",
       "      <td>No</td>\n",
       "      <td>4</td>\n",
       "      <td>Yes</td>\n",
       "      <td>Yes</td>\n",
       "      <td>Fiber optic</td>\n",
       "      <td>No</td>\n",
       "      <td>No</td>\n",
       "      <td>No</td>\n",
       "      <td>No</td>\n",
       "      <td>No</td>\n",
       "      <td>No</td>\n",
       "      <td>Month-to-month</td>\n",
       "      <td>Yes</td>\n",
       "      <td>Mailed check</td>\n",
       "      <td>74.40</td>\n",
       "      <td>Yes</td>\n",
       "    </tr>\n",
       "    <tr>\n",
       "      <th>7042</th>\n",
       "      <td>Male</td>\n",
       "      <td>No</td>\n",
       "      <td>No</td>\n",
       "      <td>No</td>\n",
       "      <td>66</td>\n",
       "      <td>Yes</td>\n",
       "      <td>No</td>\n",
       "      <td>Fiber optic</td>\n",
       "      <td>Yes</td>\n",
       "      <td>No</td>\n",
       "      <td>Yes</td>\n",
       "      <td>Yes</td>\n",
       "      <td>Yes</td>\n",
       "      <td>Yes</td>\n",
       "      <td>Two year</td>\n",
       "      <td>Yes</td>\n",
       "      <td>Bank transfer (automatic)</td>\n",
       "      <td>105.65</td>\n",
       "      <td>No</td>\n",
       "    </tr>\n",
       "  </tbody>\n",
       "</table>\n",
       "<p>7043 rows × 19 columns</p>\n",
       "</div>"
      ],
      "text/plain": [
       "      gender SeniorCitizen Partner Dependents  tenure PhoneService  \\\n",
       "0     Female            No     Yes         No       1           No   \n",
       "1       Male            No      No         No      34          Yes   \n",
       "2       Male            No      No         No       2          Yes   \n",
       "3       Male            No      No         No      45           No   \n",
       "4     Female            No      No         No       2          Yes   \n",
       "...      ...           ...     ...        ...     ...          ...   \n",
       "7038    Male            No     Yes        Yes      24          Yes   \n",
       "7039  Female            No     Yes        Yes      72          Yes   \n",
       "7040  Female            No     Yes        Yes      11           No   \n",
       "7041    Male           Yes     Yes         No       4          Yes   \n",
       "7042    Male            No      No         No      66          Yes   \n",
       "\n",
       "         MultipleLines InternetService OnlineSecurity OnlineBackup  \\\n",
       "0     No phone service             DSL             No          Yes   \n",
       "1                   No             DSL            Yes           No   \n",
       "2                   No             DSL            Yes          Yes   \n",
       "3     No phone service             DSL            Yes           No   \n",
       "4                   No     Fiber optic             No           No   \n",
       "...                ...             ...            ...          ...   \n",
       "7038               Yes             DSL            Yes           No   \n",
       "7039               Yes     Fiber optic             No          Yes   \n",
       "7040  No phone service             DSL            Yes           No   \n",
       "7041               Yes     Fiber optic             No           No   \n",
       "7042                No     Fiber optic            Yes           No   \n",
       "\n",
       "     DeviceProtection TechSupport StreamingTV StreamingMovies        Contract  \\\n",
       "0                  No          No          No              No  Month-to-month   \n",
       "1                 Yes          No          No              No        One year   \n",
       "2                  No          No          No              No  Month-to-month   \n",
       "3                 Yes         Yes          No              No        One year   \n",
       "4                  No          No          No              No  Month-to-month   \n",
       "...               ...         ...         ...             ...             ...   \n",
       "7038              Yes         Yes         Yes             Yes        One year   \n",
       "7039              Yes          No         Yes             Yes        One year   \n",
       "7040               No          No          No              No  Month-to-month   \n",
       "7041               No          No          No              No  Month-to-month   \n",
       "7042              Yes         Yes         Yes             Yes        Two year   \n",
       "\n",
       "     PaperlessBilling              PaymentMethod  MonthlyCharges Churn  \n",
       "0                 Yes           Electronic check           29.85    No  \n",
       "1                  No               Mailed check           56.95    No  \n",
       "2                 Yes               Mailed check           53.85   Yes  \n",
       "3                  No  Bank transfer (automatic)           42.30    No  \n",
       "4                 Yes           Electronic check           70.70   Yes  \n",
       "...               ...                        ...             ...   ...  \n",
       "7038              Yes               Mailed check           84.80    No  \n",
       "7039              Yes    Credit card (automatic)          103.20    No  \n",
       "7040              Yes           Electronic check           29.60    No  \n",
       "7041              Yes               Mailed check           74.40   Yes  \n",
       "7042              Yes  Bank transfer (automatic)          105.65    No  \n",
       "\n",
       "[7043 rows x 19 columns]"
      ]
     },
     "execution_count": 40,
     "metadata": {},
     "output_type": "execute_result"
    }
   ],
   "source": [
    "churn_data\n"
   ]
  },
  {
   "cell_type": "markdown",
   "metadata": {
    "deletable": false,
    "editable": false,
    "nbgrader": {
     "cell_type": "markdown",
     "checksum": "a471b57ac094cf2ff2f37ddba79ecb7f",
     "grade": false,
     "grade_id": "cell-e97f6b1138fbc329",
     "locked": true,
     "schema_version": 3,
     "solution": false,
     "task": false
    }
   },
   "source": [
    "Remember that we have 3 features of numerical data type. We can use histograms to understand the distribution of values for each feature. We can use scatter-plots to understand the relationship between pairs of features. We will use the `seaborn` function `PairGrid` to combine the histograms and scatter-plots."
   ]
  },
  {
   "cell_type": "code",
   "execution_count": 41,
   "metadata": {
    "deletable": false,
    "editable": false,
    "nbgrader": {
     "cell_type": "code",
     "checksum": "6b896c13a5c6c0533780a9e6417eaf76",
     "grade": false,
     "grade_id": "cell-60991d5b111a8c17",
     "locked": true,
     "schema_version": 3,
     "solution": false,
     "task": false
    }
   },
   "outputs": [
    {
     "data": {
      "image/png": "[encoded data removed]",
      "text/plain": [
       "<Figure size 1080x1080 with 6 Axes>"
      ]
     },
     "metadata": {
      "needs_background": "light"
     },
     "output_type": "display_data"
    }
   ],
   "source": [
    "chart = sns.PairGrid(data = churn_data, hue = \"Churn\")\n",
    "chart = chart.map_diag(plt.hist)\n",
    "chart = chart.map_offdiag(plt.scatter)\n",
    "chart.add_legend()\n",
    "chart.fig.set_size_inches(15,15);"
   ]
  },
  {
   "cell_type": "markdown",
   "metadata": {
    "deletable": false,
    "editable": false,
    "nbgrader": {
     "cell_type": "markdown",
     "checksum": "d524470f7bf4e3daab03f940b92612d7",
     "grade": false,
     "grade_id": "cell-3dd861b652394a46",
     "locked": true,
     "schema_version": 3,
     "solution": false,
     "task": false
    }
   },
   "source": [
    "If a feature will help us to predict `Churn`, then we need to find a difference in the histogram between `Yes` and `No`.\n",
    "\n",
    "__True or False__ : Based on the histograms, the feature `tenure` would be a better predictor of `Churn` than the feature  `TotalCharges`."
   ]
  },
  {
   "cell_type": "code",
   "execution_count": 42,
   "metadata": {
    "deletable": false,
    "nbgrader": {
     "cell_type": "code",
     "checksum": "7a7936a7930afc6dcb606adbd3e650c2",
     "grade": false,
     "grade_id": "cell-065420f4f71745e0",
     "locked": false,
     "schema_version": 3,
     "solution": true,
     "task": false
    }
   },
   "outputs": [],
   "source": [
    "q_histograms = ...\n",
    "q_histograms = False\n",
    "# YOUR CODE HERE\n",
    "#raise NotImplementedError()"
   ]
  },
  {
   "cell_type": "code",
   "execution_count": 43,
   "metadata": {
    "deletable": false,
    "editable": false,
    "nbgrader": {
     "cell_type": "code",
     "checksum": "0c3782f1114e95fc25bc7181982ff52f",
     "grade": true,
     "grade_id": "cell-385f78035e63b070",
     "locked": true,
     "points": 1,
     "schema_version": 3,
     "solution": false,
     "task": false
    }
   },
   "outputs": [],
   "source": [
    "# TEST \n",
    "\n",
    "assert q_histograms in [True, False]\n"
   ]
  },
  {
   "cell_type": "markdown",
   "metadata": {
    "deletable": false,
    "editable": false,
    "nbgrader": {
     "cell_type": "markdown",
     "checksum": "368c889880ec7b427ff6c436712c53b7",
     "grade": false,
     "grade_id": "cell-c764cfe7f32c45f0",
     "locked": true,
     "schema_version": 3,
     "solution": false,
     "task": false
    }
   },
   "source": [
    "We have 3 features `tenure`, `MonthlyCharges`, and `TotalCharges`. Some of the scatter-plots show a relationship between features through a pattern in the points. However, other scatter-plots have no discernible pattern.\n",
    "\n",
    "__True or False__ : Based on the scatter-plots, the features `tenure` and `TotalCharges` have a closer relationships than the features `tenure` and `MonthlyCharges`."
   ]
  },
  {
   "cell_type": "code",
   "execution_count": 44,
   "metadata": {
    "deletable": false,
    "nbgrader": {
     "cell_type": "code",
     "checksum": "035937e31d201f5fae486fe3d781961c",
     "grade": false,
     "grade_id": "cell-b87b2a7f5a47da3c",
     "locked": false,
     "schema_version": 3,
     "solution": true,
     "task": false
    }
   },
   "outputs": [],
   "source": [
    "q_scatterplots = ...\n",
    "q_scatterplots = False\n",
    "# YOUR CODE HERE\n",
    "#raise NotImplementedError()"
   ]
  },
  {
   "cell_type": "code",
   "execution_count": 45,
   "metadata": {
    "deletable": false,
    "editable": false,
    "nbgrader": {
     "cell_type": "code",
     "checksum": "fa33c2ad66d6137e41ad02712fd32283",
     "grade": true,
     "grade_id": "cell-09fa0a47bd869d99",
     "locked": true,
     "points": 1,
     "schema_version": 3,
     "solution": false,
     "task": false
    }
   },
   "outputs": [],
   "source": [
    "# TEST \n",
    "\n",
    "assert q_scatterplots in [True, False]\n"
   ]
  },
  {
   "cell_type": "markdown",
   "metadata": {},
   "source": [
    "### Modeling\n",
    "\n",
    "While we have different approaches to data mining, we might have restrictions in a business setting. Operational issues like infrastructure limitations or regulatory policies might prevent us from employing some approaches. We need to ensure that the model is \n",
    "\n",
    "- usable \n",
    "  * we need to have a model with an efficient and scalable implementation \n",
    "- interpretable \n",
    "  * we must explain the model to stake-holders \n",
    "- robust \n",
    "  * we have to evaluate the model against different datasets \n",
    "  \n",
    "Remember that we need to determine a model that meet the requirements of the job task analysis. So operational issues are constraints on the analysis.  "
   ]
  },
  {
   "cell_type": "code",
   "execution_count": 46,
   "metadata": {
    "deletable": false,
    "editable": false,
    "nbgrader": {
     "cell_type": "code",
     "checksum": "bbed8a6ab8aa82664a90b5fad9b2a14c",
     "grade": false,
     "grade_id": "cell-33da1e3b48760b46",
     "locked": true,
     "schema_version": 3,
     "solution": false,
     "task": false
    }
   },
   "outputs": [
    {
     "data": {
      "text/html": [
       "<div>\n",
       "<style scoped>\n",
       "    .dataframe tbody tr th:only-of-type {\n",
       "        vertical-align: middle;\n",
       "    }\n",
       "\n",
       "    .dataframe tbody tr th {\n",
       "        vertical-align: top;\n",
       "    }\n",
       "\n",
       "    .dataframe thead th {\n",
       "        text-align: right;\n",
       "    }\n",
       "</style>\n",
       "<table border=\"1\" class=\"dataframe\">\n",
       "  <thead>\n",
       "    <tr style=\"text-align: right;\">\n",
       "      <th></th>\n",
       "      <th>items</th>\n",
       "      <th>customerID</th>\n",
       "    </tr>\n",
       "  </thead>\n",
       "  <tbody>\n",
       "    <tr>\n",
       "      <th>185</th>\n",
       "      <td>[(gender,0), (SeniorCitizen,0), (Partner,1), (...</td>\n",
       "      <td>1024-GUALD</td>\n",
       "    </tr>\n",
       "    <tr>\n",
       "      <th>2715</th>\n",
       "      <td>[(gender,1), (SeniorCitizen,0), (Partner,0), (...</td>\n",
       "      <td>0484-JPBRU</td>\n",
       "    </tr>\n",
       "    <tr>\n",
       "      <th>3825</th>\n",
       "      <td>[(gender,0), (SeniorCitizen,0), (Partner,1), (...</td>\n",
       "      <td>3620-EHIMZ</td>\n",
       "    </tr>\n",
       "  </tbody>\n",
       "</table>\n",
       "</div>"
      ],
      "text/plain": [
       "                                                  items  customerID\n",
       "185   [(gender,0), (SeniorCitizen,0), (Partner,1), (...  1024-GUALD\n",
       "2715  [(gender,1), (SeniorCitizen,0), (Partner,0), (...  0484-JPBRU\n",
       "3825  [(gender,0), (SeniorCitizen,0), (Partner,1), (...  3620-EHIMZ"
      ]
     },
     "execution_count": 46,
     "metadata": {},
     "output_type": "execute_result"
    }
   ],
   "source": [
    "churn_data_processed_random_order = churn_data_processed.sample(frac=1, random_state=42)\n",
    "churn_data_processed_random_order.head(3)"
   ]
  },
  {
   "cell_type": "markdown",
   "metadata": {
    "deletable": false,
    "editable": false,
    "nbgrader": {
     "cell_type": "markdown",
     "checksum": "f4ac63237d759c28e0202ac87ba15b0a",
     "grade": false,
     "grade_id": "cell-37289cd62f51e8db",
     "locked": true,
     "schema_version": 3,
     "solution": false,
     "task": false
    }
   },
   "source": [
    "We need to break the dataset into two datasets called the training set and the testing set. We will determine the association rules for prediction with the training set. Here we fit the model to the data in the training set. We will evaluate the predictions on the testing set. The testing set helps us to assess the accuracy of the predictions outside sample that determined the rules for prediction.\n",
    "\n",
    "We use the `pandas` function `sample` to shuffle the rows of `churn_data_processed`. Here we use the argument `random_state` to allow for reproducible permutation of the rows. While we shuffle the rows at random, we obtain the same permuation for  `random_state = 42`."
   ]
  },
  {
   "cell_type": "code",
   "execution_count": 47,
   "metadata": {
    "deletable": false,
    "editable": false,
    "nbgrader": {
     "cell_type": "code",
     "checksum": "bc068833504e60510387d21028ebc2ec",
     "grade": false,
     "grade_id": "cell-b7735e1cc3631fde",
     "locked": true,
     "schema_version": 3,
     "solution": false,
     "task": false
    }
   },
   "outputs": [],
   "source": [
    "size_training_set = 0.8\n",
    "\n",
    "number_rows = int(size_training_set * len(churn_data_processed_random_order))\n",
    "\n",
    "train = churn_data_processed_random_order.iloc[:number_rows,:]\n",
    "test = churn_data_processed_random_order.iloc[number_rows:,:]"
   ]
  },
  {
   "cell_type": "markdown",
   "metadata": {
    "deletable": false,
    "editable": false,
    "nbgrader": {
     "cell_type": "markdown",
     "checksum": "d2b0162f019949f9fa08c3329a0274ac",
     "grade": false,
     "grade_id": "cell-7f6ac99e741fa8e6",
     "locked": true,
     "schema_version": 3,
     "solution": false,
     "task": false
    }
   },
   "source": [
    "Here we use 80\\% of the data for the training set and 20\\% of the data for the testing set. We need to split at random to avoid differences between training set and testing set. For example, if the rows of `churn_dataset_processed` were sorted by the values in the `Churn` column, then the testing set could just consist of customers who discontinued subscription of services. "
   ]
  },
  {
   "cell_type": "code",
   "execution_count": 48,
   "metadata": {
    "deletable": false,
    "editable": false,
    "nbgrader": {
     "cell_type": "code",
     "checksum": "c231fc680a073284891c7be0b918e3e6",
     "grade": false,
     "grade_id": "cell-35ae3f7b2603df36",
     "locked": true,
     "schema_version": 3,
     "solution": false,
     "task": false
    }
   },
   "outputs": [],
   "source": [
    "spark = pyspark.sql.SparkSession.builder.master(\"local\").getOrCreate()"
   ]
  },
  {
   "cell_type": "markdown",
   "metadata": {
    "deletable": false,
    "editable": false,
    "nbgrader": {
     "cell_type": "markdown",
     "checksum": "51a1a57f9da85cf387f18ef489fc0749",
     "grade": false,
     "grade_id": "cell-1ffa3adee7ab801a",
     "locked": true,
     "schema_version": 3,
     "solution": false,
     "task": false
    }
   },
   "source": [
    "We will use the MLlib component of Spark to fit the model to the data."
   ]
  },
  {
   "cell_type": "code",
   "execution_count": 49,
   "metadata": {
    "deletable": false,
    "editable": false,
    "nbgrader": {
     "cell_type": "code",
     "checksum": "91bfb730151d201c4c336ae82ac36de4",
     "grade": false,
     "grade_id": "cell-7e81e11a31a59c47",
     "locked": true,
     "schema_version": 3,
     "solution": false,
     "task": false
    }
   },
   "outputs": [],
   "source": [
    "train_spark = spark.createDataFrame(train)"
   ]
  },
  {
   "cell_type": "markdown",
   "metadata": {
    "deletable": false,
    "editable": false,
    "nbgrader": {
     "cell_type": "markdown",
     "checksum": "8e5961977bb975d8c8dab2b5e832ea25",
     "grade": false,
     "grade_id": "cell-114c5ed1388686f5",
     "locked": true,
     "schema_version": 3,
     "solution": false,
     "task": false
    }
   },
   "source": [
    "Remeber that Spark implements the FPGrowth algorithm for determining frequent patterns and association rules. We need to specify the minimum relative support and the minimum confidence."
   ]
  },
  {
   "cell_type": "code",
   "execution_count": 50,
   "metadata": {
    "deletable": false,
    "editable": false,
    "nbgrader": {
     "cell_type": "code",
     "checksum": "547c07682df93e10584f9a7fd1727147",
     "grade": false,
     "grade_id": "cell-75aa5dba68297c24",
     "locked": true,
     "schema_version": 3,
     "solution": false,
     "task": false
    }
   },
   "outputs": [],
   "source": [
    "minimum_relative_support = 0.1\n",
    "minimum_confidence = 0.95"
   ]
  },
  {
   "cell_type": "markdown",
   "metadata": {
    "deletable": false,
    "editable": false,
    "nbgrader": {
     "cell_type": "markdown",
     "checksum": "3c9e0d08ff03210d00576e6f6ad1c529",
     "grade": false,
     "grade_id": "cell-a5f166d0990a1a61",
     "locked": true,
     "schema_version": 3,
     "solution": false,
     "task": false
    }
   },
   "source": [
    "Now we can fit the model to the data."
   ]
  },
  {
   "cell_type": "code",
   "execution_count": 51,
   "metadata": {
    "deletable": false,
    "editable": false,
    "nbgrader": {
     "cell_type": "code",
     "checksum": "583d251f28b9689c462410f9d7093a94",
     "grade": false,
     "grade_id": "cell-dada2054304514d9",
     "locked": true,
     "schema_version": 3,
     "solution": false,
     "task": false
    }
   },
   "outputs": [],
   "source": [
    "fpGrowth = pyspark.ml.fpm.FPGrowth(itemsCol=\"items\", minSupport=minimum_relative_support, minConfidence=minimum_confidence)\n",
    "\n",
    "model = fpGrowth.fit(train_spark)"
   ]
  },
  {
   "cell_type": "markdown",
   "metadata": {
    "deletable": false,
    "editable": false,
    "nbgrader": {
     "cell_type": "markdown",
     "checksum": "e8cd0b1937820790461f6f7aee941a0a",
     "grade": false,
     "grade_id": "cell-32c8956630768c76",
     "locked": true,
     "schema_version": 3,
     "solution": false,
     "task": false
    }
   },
   "source": [
    "We can access the frequent patterns from the `freqItemsets` attribute of the model."
   ]
  },
  {
   "cell_type": "code",
   "execution_count": 52,
   "metadata": {
    "deletable": false,
    "editable": false,
    "nbgrader": {
     "cell_type": "code",
     "checksum": "0e90a12c72dcadbd912e4ef98888be6b",
     "grade": false,
     "grade_id": "cell-0d35ae5a98cee667",
     "locked": true,
     "schema_version": 3,
     "solution": false,
     "task": false
    }
   },
   "outputs": [
    {
     "name": "stdout",
     "output_type": "stream",
     "text": [
      "+--------------------+----+\n",
      "|               items|freq|\n",
      "+--------------------+----+\n",
      "|  [(OnlineBackup,2)]|1941|\n",
      "|[(OnlineBackup,2)...| 627|\n",
      "|[(OnlineBackup,2)...| 957|\n",
      "+--------------------+----+\n",
      "only showing top 3 rows\n",
      "\n"
     ]
    }
   ],
   "source": [
    "model.freqItemsets.show(3)"
   ]
  },
  {
   "cell_type": "markdown",
   "metadata": {
    "deletable": false,
    "editable": false,
    "nbgrader": {
     "cell_type": "markdown",
     "checksum": "2bec990ab68ee3609377bf5ad833a4af",
     "grade": false,
     "grade_id": "cell-a35a200ec3d860e4",
     "locked": true,
     "schema_version": 3,
     "solution": false,
     "task": false
    }
   },
   "source": [
    "We can access the association patterns from the `associatioRules` attribute of the model."
   ]
  },
  {
   "cell_type": "code",
   "execution_count": 53,
   "metadata": {
    "deletable": false,
    "editable": false,
    "nbgrader": {
     "cell_type": "code",
     "checksum": "00b2571009ddc82c94da040247845f76",
     "grade": false,
     "grade_id": "cell-e6b6871b382ce9df",
     "locked": true,
     "schema_version": 3,
     "solution": false,
     "task": false
    }
   },
   "outputs": [
    {
     "name": "stdout",
     "output_type": "stream",
     "text": [
      "+--------------------+--------------------+------------------+------------------+\n",
      "|          antecedent|          consequent|        confidence|              lift|\n",
      "+--------------------+--------------------+------------------+------------------+\n",
      "|[(MonthlyCharges,...| [(SeniorCitizen,0)]|0.9825119236883942|1.1767585412543395|\n",
      "|[(MonthlyCharges,...|  [(PhoneService,1)]|               1.0|1.1090551181102362|\n",
      "|[(MonthlyCharges,...|[(StreamingMovies...|               1.0| 4.694999999999999|\n",
      "+--------------------+--------------------+------------------+------------------+\n",
      "only showing top 3 rows\n",
      "\n"
     ]
    }
   ],
   "source": [
    "model.associationRules.show(3)"
   ]
  },
  {
   "cell_type": "markdown",
   "metadata": {
    "deletable": false,
    "editable": false,
    "nbgrader": {
     "cell_type": "markdown",
     "checksum": "277872ad11ca0ff5be307fa5235c7c4c",
     "grade": false,
     "grade_id": "cell-f94e6db379277e6d",
     "locked": true,
     "schema_version": 3,
     "solution": false,
     "task": false
    }
   },
   "source": [
    "Note that we have metrics `confidence` and `lift` in `associationRules` and the metric `freq` meaning support in `freqItemsets`. So we can join the tables. \n",
    "\n",
    "Indicate the appropriate left table and right table for the join."
   ]
  },
  {
   "cell_type": "code",
   "execution_count": 54,
   "metadata": {},
   "outputs": [
    {
     "data": {
      "text/plain": [
       "pyspark.sql.dataframe.DataFrame"
      ]
     },
     "execution_count": 54,
     "metadata": {},
     "output_type": "execute_result"
    }
   ],
   "source": [
    "type(model.freqItemsets)"
   ]
  },
  {
   "cell_type": "code",
   "execution_count": 55,
   "metadata": {
    "deletable": false,
    "nbgrader": {
     "cell_type": "code",
     "checksum": "c5c9322958bc0d836ae1ffc80efbd098",
     "grade": false,
     "grade_id": "cell-73cdcdeaaf07c712",
     "locked": false,
     "schema_version": 3,
     "solution": true,
     "task": false
    }
   },
   "outputs": [],
   "source": [
    "right = ...\n",
    "left = ...\n",
    "\n",
    "right = model.associationRules\n",
    "left = model.freqItemsets  \n",
    "\n",
    "# YOUR CODE HERE\n",
    "#raise NotImplementedError()\n",
    "\n",
    "joined = right.join(left, left.items == right.antecedent)\n",
    "\n",
    "#joined = right.join(left)"
   ]
  },
  {
   "cell_type": "markdown",
   "metadata": {
    "deletable": false,
    "editable": false,
    "nbgrader": {
     "cell_type": "markdown",
     "checksum": "39929858b76550efa50992c27a89c855",
     "grade": false,
     "grade_id": "cell-256f802196668197",
     "locked": true,
     "schema_version": 3,
     "solution": false,
     "task": false
    }
   },
   "source": [
    "**True or False** The columns of `right` contain `antecedent`, `consequent`, `confidence`, `lift`."
   ]
  },
  {
   "cell_type": "code",
   "execution_count": 56,
   "metadata": {},
   "outputs": [
    {
     "data": {
      "text/plain": [
       "['antecedent', 'consequent', 'confidence', 'lift']"
      ]
     },
     "execution_count": 56,
     "metadata": {},
     "output_type": "execute_result"
    }
   ],
   "source": [
    "r = right.columns\n",
    "r"
   ]
  },
  {
   "cell_type": "code",
   "execution_count": 57,
   "metadata": {
    "deletable": false,
    "nbgrader": {
     "cell_type": "code",
     "checksum": "f04517b14b2fc22e55cb3a30899380c4",
     "grade": false,
     "grade_id": "cell-61a9d9b4777d808a",
     "locked": false,
     "schema_version": 3,
     "solution": true,
     "task": false
    }
   },
   "outputs": [
    {
     "data": {
      "text/plain": [
       "True"
      ]
     },
     "execution_count": 57,
     "metadata": {},
     "output_type": "execute_result"
    }
   ],
   "source": [
    "q_modelling_1 = ...\n",
    "r = right.columns\n",
    "q_modelling_1 = [\"antecedent\", \"consequent\", \"confidence\", \"lift\"] == r\n",
    "q_modelling_1\n",
    "# YOUR CODE HERE\n",
    "#raise NotImplementedError()"
   ]
  },
  {
   "cell_type": "code",
   "execution_count": 58,
   "metadata": {
    "deletable": false,
    "editable": false,
    "nbgrader": {
     "cell_type": "code",
     "checksum": "198ad190070827b47e71027b6e54c323",
     "grade": true,
     "grade_id": "cell-14719b4ef2259936",
     "locked": true,
     "points": 1,
     "schema_version": 3,
     "solution": false,
     "task": false
    }
   },
   "outputs": [],
   "source": [
    "# TEST \n",
    "\n",
    "assert q_modelling_1 in [True, False]\n"
   ]
  },
  {
   "cell_type": "markdown",
   "metadata": {
    "deletable": false,
    "editable": false,
    "nbgrader": {
     "cell_type": "markdown",
     "checksum": "4537eeb87941d30b9da36ff11f29472c",
     "grade": false,
     "grade_id": "cell-98f720c0a0f73849",
     "locked": true,
     "schema_version": 3,
     "solution": false,
     "task": false
    }
   },
   "source": [
    "Now we have to filter the table. We want the conseqient to be `[(Churn,0)]` or `[(Churn,1)]`."
   ]
  },
  {
   "cell_type": "code",
   "execution_count": 59,
   "metadata": {
    "deletable": false,
    "editable": false,
    "nbgrader": {
     "cell_type": "code",
     "checksum": "f55c0fa318006383f543fcc84d4b692d",
     "grade": false,
     "grade_id": "cell-273024f4e6d89576",
     "locked": true,
     "schema_version": 3,
     "solution": false,
     "task": false
    }
   },
   "outputs": [
    {
     "name": "stdout",
     "output_type": "stream",
     "text": [
      "+--------------------+-----------+------------------+------------------+--------------------+----+\n",
      "|          antecedent| consequent|        confidence|              lift|               items|freq|\n",
      "+--------------------+-----------+------------------+------------------+--------------------+----+\n",
      "|[(Contract,2), (g...|[(Churn,0)]|0.9651162790697675|1.3191327307809486|[(Contract,2), (g...| 602|\n",
      "|[(Contract,2), (D...|[(Churn,0)]|0.9560439560439561|1.3067325687413025|[(Contract,2), (D...| 637|\n",
      "|[(Contract,2), (T...|[(Churn,0)]|0.9668769716088328|1.3215392668714614|[(Contract,2), (T...| 634|\n",
      "+--------------------+-----------+------------------+------------------+--------------------+----+\n",
      "only showing top 3 rows\n",
      "\n"
     ]
    }
   ],
   "source": [
    "joined_filtered = joined.where(F.size(F.col(\"consequent\")) == 1).where(F.col(\"consequent\")[0].like(\"%Churn%\").alias(\"consequent\")) \n",
    "joined_filtered.show(3)"
   ]
  },
  {
   "cell_type": "markdown",
   "metadata": {
    "deletable": false,
    "editable": false,
    "nbgrader": {
     "cell_type": "markdown",
     "checksum": "665144ced8ae57cf31cb693b43177427",
     "grade": false,
     "grade_id": "cell-7cbfa64ea2b6c130",
     "locked": true,
     "schema_version": 3,
     "solution": false,
     "task": false
    }
   },
   "source": [
    "We took the minimum relative support to be 10\\% and the minimum confidence to be 0.95. If we want to allow for more association rules, then we could fit another model with  \n",
    "\n",
    "- minimum relative support to be 5\\%   \n",
    "- minimum confidence to be 0.75\n",
    "\n",
    "We have the association rules of the model with consequent `[(Churn,1)]` or `[(Churn,0)]` in `churn_association_rules.csv`. "
   ]
  },
  {
   "cell_type": "code",
   "execution_count": 60,
   "metadata": {
    "deletable": false,
    "editable": false,
    "nbgrader": {
     "cell_type": "code",
     "checksum": "efc3e5cd0d8ce6959f7a170936ac3b3c",
     "grade": false,
     "grade_id": "cell-925cb8a2ae16983f",
     "locked": true,
     "schema_version": 3,
     "solution": false,
     "task": false
    }
   },
   "outputs": [
    {
     "data": {
      "text/html": [
       "<div>\n",
       "<style scoped>\n",
       "    .dataframe tbody tr th:only-of-type {\n",
       "        vertical-align: middle;\n",
       "    }\n",
       "\n",
       "    .dataframe tbody tr th {\n",
       "        vertical-align: top;\n",
       "    }\n",
       "\n",
       "    .dataframe thead th {\n",
       "        text-align: right;\n",
       "    }\n",
       "</style>\n",
       "<table border=\"1\" class=\"dataframe\">\n",
       "  <thead>\n",
       "    <tr style=\"text-align: right;\">\n",
       "      <th></th>\n",
       "      <th>antecedent</th>\n",
       "      <th>confidence</th>\n",
       "      <th>consequent</th>\n",
       "      <th>freq</th>\n",
       "      <th>lift</th>\n",
       "    </tr>\n",
       "  </thead>\n",
       "  <tbody>\n",
       "    <tr>\n",
       "      <th>0</th>\n",
       "      <td>{'(SeniorCitizen,0)', '(PhoneService,1)', '(Co...</td>\n",
       "      <td>0.88</td>\n",
       "      <td>['(Churn,0)']</td>\n",
       "      <td>527</td>\n",
       "      <td>1.19</td>\n",
       "    </tr>\n",
       "    <tr>\n",
       "      <th>1</th>\n",
       "      <td>{'(Dependents,0)', '(Contract,2)', '(PhoneServ...</td>\n",
       "      <td>0.99</td>\n",
       "      <td>['(Churn,0)']</td>\n",
       "      <td>336</td>\n",
       "      <td>1.34</td>\n",
       "    </tr>\n",
       "    <tr>\n",
       "      <th>2</th>\n",
       "      <td>{'(StreamingMovies,2)', '(StreamingTV,2)', '(P...</td>\n",
       "      <td>0.94</td>\n",
       "      <td>['(Churn,0)']</td>\n",
       "      <td>343</td>\n",
       "      <td>1.28</td>\n",
       "    </tr>\n",
       "    <tr>\n",
       "      <th>3</th>\n",
       "      <td>{'(Partner,1)', '(DeviceProtection,1)', '(Mult...</td>\n",
       "      <td>0.95</td>\n",
       "      <td>['(Churn,0)']</td>\n",
       "      <td>297</td>\n",
       "      <td>1.29</td>\n",
       "    </tr>\n",
       "    <tr>\n",
       "      <th>4</th>\n",
       "      <td>{'(OnlineBackup,1)', '(MultipleLines,0)', '(De...</td>\n",
       "      <td>0.92</td>\n",
       "      <td>['(Churn,0)']</td>\n",
       "      <td>672</td>\n",
       "      <td>1.25</td>\n",
       "    </tr>\n",
       "  </tbody>\n",
       "</table>\n",
       "</div>"
      ],
      "text/plain": [
       "                                          antecedent  confidence  \\\n",
       "0  {'(SeniorCitizen,0)', '(PhoneService,1)', '(Co...        0.88   \n",
       "1  {'(Dependents,0)', '(Contract,2)', '(PhoneServ...        0.99   \n",
       "2  {'(StreamingMovies,2)', '(StreamingTV,2)', '(P...        0.94   \n",
       "3  {'(Partner,1)', '(DeviceProtection,1)', '(Mult...        0.95   \n",
       "4  {'(OnlineBackup,1)', '(MultipleLines,0)', '(De...        0.92   \n",
       "\n",
       "      consequent  freq  lift  \n",
       "0  ['(Churn,0)']   527  1.19  \n",
       "1  ['(Churn,0)']   336  1.34  \n",
       "2  ['(Churn,0)']   343  1.28  \n",
       "3  ['(Churn,0)']   297  1.29  \n",
       "4  ['(Churn,0)']   672  1.25  "
      ]
     },
     "execution_count": 60,
     "metadata": {},
     "output_type": "execute_result"
    }
   ],
   "source": [
    "association_rules = pd.read_csv(path_association_rules)\n",
    "association_rules.head()"
   ]
  },
  {
   "cell_type": "markdown",
   "metadata": {
    "deletable": false,
    "editable": false,
    "nbgrader": {
     "cell_type": "markdown",
     "checksum": "f27ddd467da3988e455b62f3be3e5f06",
     "grade": false,
     "grade_id": "cell-34ce8b8e1f88c749",
     "locked": true,
     "schema_version": 3,
     "solution": false,
     "task": false
    }
   },
   "source": [
    "We have an association rule with antecedent \n",
    "\n",
    "`['(Contract,2)', '(InternetService,0)','(OnlineBackup,2)','(SeniorCitizen,0)']`\n",
    "\n",
    "The association rule has \n",
    "\n",
    "- absolute support 332\n",
    "- confidence 1\n",
    "- lift 1.35\n",
    "\n",
    "We can use `encoders` to transform the numbers `2,0,2,0` back to strings. Which option corresponds to antecedent under the encoding\n",
    "\n",
    "1. `['(Contract,One Year)', '(InternetService,Fiber Optic)','(OnlineBackup,Yes)','(SeniorCitizen,No)']`\n",
    "1. `['(Contract,Two Year)', '(InternetService,DSL)','(OnlineBackup,Yes)','(SeniorCitizen,No)']`\n",
    "1. `['(Contract,Monthly)', '(InternetService,DSL)','(OnlineBackup,No)','(SeniorCitizen,Yes)']`"
   ]
  },
  {
   "cell_type": "code",
   "execution_count": 61,
   "metadata": {
    "deletable": false,
    "nbgrader": {
     "cell_type": "code",
     "checksum": "7f81a23c0dd6a6acf88600397892c2ec",
     "grade": false,
     "grade_id": "cell-b33c51b9dd925f05",
     "locked": false,
     "schema_version": 3,
     "solution": true,
     "task": false
    }
   },
   "outputs": [],
   "source": [
    "q_antecedents = ...\n",
    "association = 2\n",
    "q_antecedents = association\n",
    "# YOUR CODE HERE\n",
    "#raise NotImplementedError()"
   ]
  },
  {
   "cell_type": "code",
   "execution_count": 62,
   "metadata": {
    "deletable": false,
    "editable": false,
    "nbgrader": {
     "cell_type": "code",
     "checksum": "2e77367515869b3e9179980c31b1d62b",
     "grade": true,
     "grade_id": "cell-cc065d334fc5c4d3",
     "locked": true,
     "points": 1,
     "schema_version": 3,
     "solution": false,
     "task": false
    }
   },
   "outputs": [],
   "source": [
    "# TEST \n",
    "\n",
    "assert q_antecedents in [1,2,3]\n"
   ]
  },
  {
   "cell_type": "markdown",
   "metadata": {
    "deletable": false,
    "editable": false,
    "nbgrader": {
     "cell_type": "markdown",
     "checksum": "15e1b6e0d0760df51c0d06f6acab08a3",
     "grade": false,
     "grade_id": "cell-5965df29182e8cc6",
     "locked": true,
     "schema_version": 3,
     "solution": false,
     "task": false
    }
   },
   "source": [
    "### Evaluation\n",
    "\n",
    "Remember that 75\\% of customers have `No` for `Churn` and 25\\% of customers have `Yes` for `Churn`. Since the number of occurrences of `Yes` is three times the number of occurrences of `No`, we lack frequent patterns containing the consequent `[(Churn,1)]`."
   ]
  },
  {
   "cell_type": "code",
   "execution_count": 63,
   "metadata": {
    "deletable": false,
    "editable": false,
    "nbgrader": {
     "cell_type": "code",
     "checksum": "358b0cc38f9f838b02503112129e4c01",
     "grade": false,
     "grade_id": "cell-2a73da585c6ea03e",
     "locked": true,
     "schema_version": 3,
     "solution": false,
     "task": false
    }
   },
   "outputs": [
    {
     "data": {
      "text/plain": [
       "array([\"['(Churn,0)']\"], dtype=object)"
      ]
     },
     "execution_count": 63,
     "metadata": {},
     "output_type": "execute_result"
    }
   ],
   "source": [
    "association_rules[\"consequent\"].unique()"
   ]
  },
  {
   "cell_type": "markdown",
   "metadata": {
    "deletable": false,
    "editable": false,
    "nbgrader": {
     "cell_type": "markdown",
     "checksum": "c70000e578753ecf0b7a1b3df17332ca",
     "grade": false,
     "grade_id": "cell-800868e81077c710",
     "locked": true,
     "schema_version": 3,
     "solution": false,
     "task": false
    }
   },
   "source": [
    "We find that the 60363 association rules in `association_rules` have consequent `[(Churn,0)]`. Based on these association rules, we would just predict `[(Churn,0)]`. However, the model needs to predict `[(Churn,1)]` to match customer records in the testing set. So we can apply the following steps to make predictions on the testing set\n",
    "\n",
    "1. For a customer record, we check `association_rules` for matching antecents. \n",
    "1. If the customer record contains the itemset of an antecedent, then we predict `[(Churn,0)]`\n",
    "1. Otherwise we lack a matching antecedent. We predict `[(Churn,1)]`\n",
    "\n",
    "We can make prediction for the 1407 customer records in the testing set."
   ]
  },
  {
   "cell_type": "code",
   "execution_count": 64,
   "metadata": {
    "deletable": false,
    "editable": false,
    "nbgrader": {
     "cell_type": "code",
     "checksum": "f585ea26b320bcfc09e3b5351b746ec1",
     "grade": false,
     "grade_id": "cell-6bd402b9f1efea60",
     "locked": true,
     "schema_version": 3,
     "solution": false,
     "task": false
    }
   },
   "outputs": [
    {
     "data": {
      "text/html": [
       "<div>\n",
       "<style scoped>\n",
       "    .dataframe tbody tr th:only-of-type {\n",
       "        vertical-align: middle;\n",
       "    }\n",
       "\n",
       "    .dataframe tbody tr th {\n",
       "        vertical-align: top;\n",
       "    }\n",
       "\n",
       "    .dataframe thead th {\n",
       "        text-align: right;\n",
       "    }\n",
       "</style>\n",
       "<table border=\"1\" class=\"dataframe\">\n",
       "  <thead>\n",
       "    <tr style=\"text-align: right;\">\n",
       "      <th></th>\n",
       "      <th>items</th>\n",
       "      <th>customerID</th>\n",
       "      <th>Churn</th>\n",
       "    </tr>\n",
       "  </thead>\n",
       "  <tbody>\n",
       "    <tr>\n",
       "      <th>6899</th>\n",
       "      <td>{(PaymentMethod,0), (SeniorCitizen,0), (Stream...</td>\n",
       "      <td>3926-CUQZX</td>\n",
       "      <td>Yes</td>\n",
       "    </tr>\n",
       "    <tr>\n",
       "      <th>1555</th>\n",
       "      <td>{(tenure,3), (OnlineSecurity,2), (gender,0), (...</td>\n",
       "      <td>9651-GTSAQ</td>\n",
       "      <td>Yes</td>\n",
       "    </tr>\n",
       "    <tr>\n",
       "      <th>6800</th>\n",
       "      <td>{(OnlineSecurity,2), (gender,0), (StreamingTV,...</td>\n",
       "      <td>1113-IUJYX</td>\n",
       "      <td>Yes</td>\n",
       "    </tr>\n",
       "  </tbody>\n",
       "</table>\n",
       "</div>"
      ],
      "text/plain": [
       "                                                  items  customerID Churn\n",
       "6899  {(PaymentMethod,0), (SeniorCitizen,0), (Stream...  3926-CUQZX   Yes\n",
       "1555  {(tenure,3), (OnlineSecurity,2), (gender,0), (...  9651-GTSAQ   Yes\n",
       "6800  {(OnlineSecurity,2), (gender,0), (StreamingTV,...  1113-IUJYX   Yes"
      ]
     },
     "execution_count": 64,
     "metadata": {},
     "output_type": "execute_result"
    }
   ],
   "source": [
    "test_merge = pd.merge(left = test, right = churn_data.loc[test.index,\"Churn\"], right_index=True, left_index=True)\n",
    "test_merge[\"items\"] = test_merge[\"items\"].map(lambda x : set(x))\n",
    "test_merge.head(3)"
   ]
  },
  {
   "cell_type": "markdown",
   "metadata": {
    "deletable": false,
    "editable": false,
    "nbgrader": {
     "cell_type": "markdown",
     "checksum": "bd7995c8d222604d73b1e10153e15c88",
     "grade": false,
     "grade_id": "cell-c69359f4a30f18ad",
     "locked": true,
     "schema_version": 3,
     "solution": false,
     "task": false
    }
   },
   "source": [
    "Suppose we have the records for customer `7338-ERIVA`.\n",
    "\n",
    "> {'(Churn,0)',\n",
    "   '(Contract,1)',\n",
    "   '(Dependents,1)',\n",
    "   '(DeviceProtection,0)',\n",
    "   '(InternetService,0)',\n",
    "   '(MonthlyCharges,1)',\n",
    "   '(MultipleLines,1)',\n",
    "   '(OnlineBackup,0)',\n",
    "   '(OnlineSecurity,2)',\n",
    "   '(PaperlessBilling,0)',\n",
    "   '(Partner,0)',\n",
    "   '(PaymentMethod,0)',\n",
    "   '(PhoneService,0)',\n",
    "   '(SeniorCitizen,0)',\n",
    "   '(StreamingMovies,0)',\n",
    "   '(StreamingTV,2)',\n",
    "   '(TechSupport,2)',\n",
    "   '(TotalCharges,2)',\n",
    "   '(gender,1)',\n",
    "   '(tenure,2)'}\n",
    "   \n",
    "Since the value in `Churn` is 0 corresponding to `No`, we learn that the customer continued subscription to services. We can scan the antecedents in `association_rules`. We find 266 matching antecedents. For example, we have the itemset \n",
    "\n",
    "> {'(InternetService,0)',\n",
    "  '(MonthlyCharges,1)',\n",
    "  '(PaperlessBilling,0)',\n",
    "  '(SeniorCitizen,0)',\n",
    "  '(StreamingMovies,0)'}\n",
    "\n",
    "Which of the following itemsets would not match the records for customer `7338-ERIVA`.\n",
    "\n",
    "1.  {'(InternetService,0)',\n",
    "  '(OnlineSecurity,2)',\n",
    "  '(SeniorCitizen,0)',\n",
    "  '(StreamingTV,2)'}\n",
    "1. {'(Partner,1)', '(TechSupport,2)'}\n",
    "1. {'(MonthlyCharges,1)', '(PhoneService,0)', '(SeniorCitizen,0)'}\n",
    "1. { '(TechSupport,1)',\n",
    "   '(gender,1)',\n",
    "   '(PaperlessBilling,0)'}"
   ]
  },
  {
   "cell_type": "code",
   "execution_count": 65,
   "metadata": {
    "deletable": false,
    "nbgrader": {
     "cell_type": "code",
     "checksum": "37d24a84d71941b65a95f280cd35f0eb",
     "grade": false,
     "grade_id": "cell-b9f84fd90fc6d227",
     "locked": false,
     "schema_version": 3,
     "solution": true,
     "task": false
    }
   },
   "outputs": [
    {
     "name": "stdout",
     "output_type": "stream",
     "text": [
      "['(PaymentMethod,0)', '(SeniorCitizen,0)', '(StreamingTV,0)', '(MultipleLines,0)', '(Contract,0)', '(TechSupport,0)', '(OnlineSecurity,0)', '(tenure,0)', '(PaperlessBilling,1)', '(gender,1)', '(Churn,1)', '(DeviceProtection,0)', '(InternetService,0)', '(StreamingMovies,0)', '(PhoneService,1)', '(MonthlyCharges,1)', '(Dependents,0)', '(Partner,0)', '(OnlineBackup,0)']\n"
     ]
    }
   ],
   "source": [
    "q_itemsets = ...\n",
    "\n",
    "test_list = test_merge['customerID'].tolist()\n",
    "cnt = 0\n",
    "for i in range(0,len(test_list)):\n",
    "    if test_list[i] == '7338-ERIVA':\n",
    "        cnt = i\n",
    "        break\n",
    "test_list_2 = test_merge['items'].tolist()\n",
    "answer = (list)(test_list_2[cnt])\n",
    "print(answer)\n",
    "option1 = ['(InternetService,0)', '(OnlineSecurity,2)', '(SeniorCitizen,0)', '(StreamingTV,2)']\n",
    "option2 = ['(Partner,1)', '(TechSupport,2)']\n",
    "option3 = ['(MonthlyCharges,1)', '(PhoneService,0)', '(SeniorCitizen,0)']\n",
    "option4 = ['(TechSupport,1)', '(gender,1)', '(PaperlessBilling,0)']\n",
    "\n",
    "\n",
    "\n",
    "ans = []\n",
    "flag = True\n",
    "cnt = 0\n",
    "for i in option1:\n",
    "    for j in answer:\n",
    "        if i==j:\n",
    "            cnt = cnt + 1\n",
    "if cnt != 0:\n",
    "    ans.append(1)\n",
    "cnt = 0\n",
    "for i in option2:\n",
    "    for j in answer:\n",
    "        if i==j:\n",
    "            cnt = cnt + 1\n",
    "if cnt != 0:\n",
    "    ans.append(2)\n",
    "cnt = 0\n",
    "for i in option3:\n",
    "    for j in answer:\n",
    "        if i==j:\n",
    "            cnt = cnt + 1\n",
    "if cnt != 0:\n",
    "    ans.append(3)\n",
    "cnt = 0    \n",
    "for i in option4:\n",
    "    for j in answer:\n",
    "        if i==j:\n",
    "            cnt = cnt + 1\n",
    "if cnt != 0:\n",
    "    ans.append(4)\n",
    " \n",
    "ans\n",
    "\n",
    "\n",
    "q_itemsets = ans\n",
    "\n",
    "# YOUR CODE HERE\n",
    "#raise NotImplementedError()"
   ]
  },
  {
   "cell_type": "code",
   "execution_count": 66,
   "metadata": {
    "deletable": false,
    "editable": false,
    "nbgrader": {
     "cell_type": "code",
     "checksum": "7d54acb26a71f28f2bc4d3cd8d45bf88",
     "grade": true,
     "grade_id": "cell-bcb796a4b325ebaf",
     "locked": true,
     "points": 1,
     "schema_version": 3,
     "solution": false,
     "task": false
    }
   },
   "outputs": [],
   "source": [
    "# TEST \n",
    "\n",
    "assert type(q_itemsets) == list\n",
    "assert set(q_itemsets).issubset({1,2,3,4})\n"
   ]
  },
  {
   "cell_type": "markdown",
   "metadata": {
    "deletable": false,
    "editable": false,
    "nbgrader": {
     "cell_type": "markdown",
     "checksum": "f421cf3dc603c91f2b99bb99fd4810fd",
     "grade": false,
     "grade_id": "cell-1b88ebe4ddc46f72",
     "locked": true,
     "schema_version": 3,
     "solution": false,
     "task": false
    }
   },
   "source": [
    "So we would correctly predict `[(Churn,0)]` for customer `7338-ERIVA`. If we did not find a matching antecedent, then we would have predicted `[(Churn,1)]`."
   ]
  },
  {
   "cell_type": "markdown",
   "metadata": {
    "deletable": false,
    "editable": false,
    "nbgrader": {
     "cell_type": "markdown",
     "checksum": "68175081980615b322c62a2e8fda724e",
     "grade": false,
     "grade_id": "cell-6797eef6ab52baa0",
     "locked": true,
     "schema_version": 3,
     "solution": false,
     "task": false
    }
   },
   "source": [
    "We can assess the prediction in different ways. Since we want to predict two possible situations, we can use the number of\n",
    "\n",
    "- True Positive \n",
    " * Correctly predict `Yes` for `Churn`\n",
    "- True Negative \n",
    " * Correctly predict `No` for `Churn`\n",
    "- False Positive \n",
    " * Incorrectly predict `Yes` for `Churn`\n",
    "- False Negative \n",
    " * Incorrectly predict `No` for `Churn`\n",
    "\n",
    "We tend to arrange these numbers into a diagram called a confusion matrix. We can use a `heatmap` in the `seaborn` package to add labels and colors."
   ]
  },
  {
   "cell_type": "code",
   "execution_count": 67,
   "metadata": {
    "deletable": false,
    "editable": false,
    "nbgrader": {
     "cell_type": "code",
     "checksum": "c612dd5f9bc292c08f12542c24f3eba3",
     "grade": false,
     "grade_id": "cell-1abf0547fbf6e621",
     "locked": true,
     "schema_version": 3,
     "solution": false,
     "task": false
    }
   },
   "outputs": [
    {
     "data": {
      "image/png": "[encoded data removed]",
      "text/plain": [
       "<Figure size 648x504 with 1 Axes>"
      ]
     },
     "metadata": {
      "needs_background": "light"
     },
     "output_type": "display_data"
    }
   ],
   "source": [
    "TP = 172\n",
    "TN = 940\n",
    "FP = 77\n",
    "FN = 218\n",
    "\n",
    "confusion_matrix = np.array([\n",
    "    [TP, FP],\n",
    "    [FN, TN],\n",
    "])\n",
    "\n",
    "sns.heatmap(confusion_matrix, annot=True, fmt='d',\n",
    "            cmap=\"Purples\", annot_kws={'fontsize': 24}, square=True,\n",
    "            xticklabels=[\"Churn\", \"No Churn\"], yticklabels=[\"Churn\", \"No Churn\"], cbar=False)\n",
    "plt.gca().xaxis.set_label_position('top')\n",
    "plt.xlabel('Actual')\n",
    "plt.ylabel('Predicted');"
   ]
  },
  {
   "cell_type": "markdown",
   "metadata": {
    "deletable": false,
    "editable": false,
    "nbgrader": {
     "cell_type": "markdown",
     "checksum": "42e84af2ecdaa7d9a0fe185d3bfceba4",
     "grade": false,
     "grade_id": "cell-6b11244b673ff7b6",
     "locked": true,
     "schema_version": 3,
     "solution": false,
     "task": false
    }
   },
   "source": [
    "We can use the number of true postive, false positive, true negative and false negative to compute\n",
    "\n",
    "- error rate\n",
    " * ratio of number of incorrect predictions to number of predictions\n",
    "- recall\n",
    " * ratio of number of true positives to sum of number of true positives and false negatives.\n",
    " \n",
    "The error rate measures the number of incorrect predictions. The recall measures the number of correct prediction among customers who discontinue subscription of service."
   ]
  },
  {
   "cell_type": "code",
   "execution_count": 68,
   "metadata": {
    "deletable": false,
    "editable": false,
    "nbgrader": {
     "cell_type": "code",
     "checksum": "ee3ced99f93e32249b1aa800037d6e8d",
     "grade": false,
     "grade_id": "cell-f3a49d45eb23a457",
     "locked": true,
     "schema_version": 3,
     "solution": false,
     "task": false
    }
   },
   "outputs": [
    {
     "data": {
      "text/plain": [
       "0.20966595593461265"
      ]
     },
     "execution_count": 68,
     "metadata": {},
     "output_type": "execute_result"
    }
   ],
   "source": [
    "err = (FP + FN) / (TP + TN + FP + FN)\n",
    "err"
   ]
  },
  {
   "cell_type": "code",
   "execution_count": 69,
   "metadata": {
    "deletable": false,
    "editable": false,
    "nbgrader": {
     "cell_type": "code",
     "checksum": "c5674ae41b7b0af631818cd4f0247444",
     "grade": false,
     "grade_id": "cell-0ae132bd74fdc79a",
     "locked": true,
     "schema_version": 3,
     "solution": false,
     "task": false
    }
   },
   "outputs": [
    {
     "data": {
      "text/plain": [
       "0.441025641025641"
      ]
     },
     "execution_count": 69,
     "metadata": {},
     "output_type": "execute_result"
    }
   ],
   "source": [
    "recall = TP / (TP + FN)\n",
    "recall"
   ]
  },
  {
   "cell_type": "markdown",
   "metadata": {},
   "source": [
    "Suppose we had the following numbers\n",
    "\n",
    "- True Positive\n",
    "  * 244\n",
    "- False Positive\n",
    "  * 123\n",
    "- False Negative\n",
    "  * 146\n",
    "- True Negative\n",
    "  * 894 \n",
    "  \n",
    "Compute the error rate and recall."
   ]
  },
  {
   "cell_type": "code",
   "execution_count": 70,
   "metadata": {},
   "outputs": [
    {
     "name": "stdout",
     "output_type": "stream",
     "text": [
      "0.1911869225302061\n",
      "0.6256410256410256\n"
     ]
    }
   ],
   "source": [
    "TP = 244\n",
    "FP = 123\n",
    "FN = 146\n",
    "TN = 894\n",
    "\n",
    "err = (FP + FN) / (TP + TN + FP + FN)\n",
    "print(err)\n",
    "recall = TP / (TP + FN)\n",
    "print(recall)"
   ]
  },
  {
   "cell_type": "code",
   "execution_count": 71,
   "metadata": {
    "deletable": false,
    "nbgrader": {
     "cell_type": "code",
     "checksum": "487d28606cbfd7fc4b73330dd9988842",
     "grade": false,
     "grade_id": "cell-09062d54b6d9764d",
     "locked": false,
     "schema_version": 3,
     "solution": true,
     "task": false
    }
   },
   "outputs": [
    {
     "name": "stdout",
     "output_type": "stream",
     "text": [
      "0.1911869225302061\n",
      "0.6256410256410256\n"
     ]
    }
   ],
   "source": [
    "q_err = ...\n",
    "q_recall = ...\n",
    "TP = 244\n",
    "FP = 123\n",
    "FN = 146\n",
    "TN = 894\n",
    "\n",
    "err = (FP + FN) / (TP + TN + FP + FN)\n",
    "print(err)\n",
    "recall = TP / (TP + FN)\n",
    "print(recall)\n",
    "\n",
    "q_err = err\n",
    "q_recall = recall\n",
    "\n",
    "# YOUR CODE HERE\n",
    "#raise NotImplementedError()"
   ]
  },
  {
   "cell_type": "code",
   "execution_count": 72,
   "metadata": {
    "deletable": false,
    "editable": false,
    "nbgrader": {
     "cell_type": "code",
     "checksum": "8ba2a0e8c78c908fc52f6cd8e8f14698",
     "grade": true,
     "grade_id": "cell-27a5f3d4848060f0",
     "locked": true,
     "points": 1,
     "schema_version": 3,
     "solution": false,
     "task": false
    }
   },
   "outputs": [],
   "source": [
    "# TEST \n",
    "\n",
    "assert 0.1 < q_err < 0.2\n"
   ]
  },
  {
   "cell_type": "code",
   "execution_count": 73,
   "metadata": {
    "deletable": false,
    "editable": false,
    "nbgrader": {
     "cell_type": "code",
     "checksum": "27bd0aad7c000fc55035eb10158f91cf",
     "grade": true,
     "grade_id": "cell-6f5026c51d3769d4",
     "locked": true,
     "points": 1,
     "schema_version": 3,
     "solution": false,
     "task": false
    }
   },
   "outputs": [],
   "source": [
    "# TEST \n",
    "\n",
    "assert 0.5 < q_recall < 0.7\n"
   ]
  },
  {
   "cell_type": "markdown",
   "metadata": {
    "deletable": false,
    "editable": false,
    "nbgrader": {
     "cell_type": "markdown",
     "checksum": "5ecac5bcca33f8dda83bfe26acc8ed0e",
     "grade": false,
     "grade_id": "cell-e6a15cae44b3480b",
     "locked": true,
     "schema_version": 3,
     "solution": false,
     "task": false
    }
   },
   "source": [
    "Based on support, confidence, and lift, we can filter the table `association_rules`. With fewer association rules, we would have fewer matching antecedents for the customer records in the testing set. So we would have more predictions of `[(Churn,1)]`. If we have more predictions of `[(Churn,1)]`, then we could have an increase in recall."
   ]
  },
  {
   "cell_type": "code",
   "execution_count": 74,
   "metadata": {},
   "outputs": [
    {
     "data": {
      "text/html": [
       "<div>\n",
       "<style scoped>\n",
       "    .dataframe tbody tr th:only-of-type {\n",
       "        vertical-align: middle;\n",
       "    }\n",
       "\n",
       "    .dataframe tbody tr th {\n",
       "        vertical-align: top;\n",
       "    }\n",
       "\n",
       "    .dataframe thead th {\n",
       "        text-align: right;\n",
       "    }\n",
       "</style>\n",
       "<table border=\"1\" class=\"dataframe\">\n",
       "  <thead>\n",
       "    <tr style=\"text-align: right;\">\n",
       "      <th></th>\n",
       "      <th>confidence</th>\n",
       "      <th>freq</th>\n",
       "      <th>lift</th>\n",
       "      <th>tp</th>\n",
       "      <th>fp</th>\n",
       "      <th>fn</th>\n",
       "      <th>tn</th>\n",
       "      <th>err</th>\n",
       "      <th>recall</th>\n",
       "    </tr>\n",
       "  </thead>\n",
       "  <tbody>\n",
       "    <tr>\n",
       "      <th>0</th>\n",
       "      <td>0.75</td>\n",
       "      <td>287.0</td>\n",
       "      <td>1.02</td>\n",
       "      <td>11</td>\n",
       "      <td>3</td>\n",
       "      <td>379</td>\n",
       "      <td>1014</td>\n",
       "      <td>0.271500</td>\n",
       "      <td>0.028205</td>\n",
       "    </tr>\n",
       "    <tr>\n",
       "      <th>1</th>\n",
       "      <td>0.75</td>\n",
       "      <td>287.0</td>\n",
       "      <td>1.21</td>\n",
       "      <td>172</td>\n",
       "      <td>77</td>\n",
       "      <td>218</td>\n",
       "      <td>940</td>\n",
       "      <td>0.209666</td>\n",
       "      <td>0.441026</td>\n",
       "    </tr>\n",
       "    <tr>\n",
       "      <th>2</th>\n",
       "      <td>0.75</td>\n",
       "      <td>287.0</td>\n",
       "      <td>1.24</td>\n",
       "      <td>244</td>\n",
       "      <td>123</td>\n",
       "      <td>146</td>\n",
       "      <td>894</td>\n",
       "      <td>0.191187</td>\n",
       "      <td>0.625641</td>\n",
       "    </tr>\n",
       "    <tr>\n",
       "      <th>3</th>\n",
       "      <td>0.75</td>\n",
       "      <td>287.0</td>\n",
       "      <td>1.29</td>\n",
       "      <td>346</td>\n",
       "      <td>373</td>\n",
       "      <td>44</td>\n",
       "      <td>644</td>\n",
       "      <td>0.296375</td>\n",
       "      <td>0.887179</td>\n",
       "    </tr>\n",
       "    <tr>\n",
       "      <th>4</th>\n",
       "      <td>0.75</td>\n",
       "      <td>347.0</td>\n",
       "      <td>1.02</td>\n",
       "      <td>11</td>\n",
       "      <td>3</td>\n",
       "      <td>379</td>\n",
       "      <td>1014</td>\n",
       "      <td>0.271500</td>\n",
       "      <td>0.028205</td>\n",
       "    </tr>\n",
       "    <tr>\n",
       "      <th>...</th>\n",
       "      <td>...</td>\n",
       "      <td>...</td>\n",
       "      <td>...</td>\n",
       "      <td>...</td>\n",
       "      <td>...</td>\n",
       "      <td>...</td>\n",
       "      <td>...</td>\n",
       "      <td>...</td>\n",
       "      <td>...</td>\n",
       "    </tr>\n",
       "    <tr>\n",
       "      <th>59</th>\n",
       "      <td>0.95</td>\n",
       "      <td>396.0</td>\n",
       "      <td>1.29</td>\n",
       "      <td>364</td>\n",
       "      <td>512</td>\n",
       "      <td>26</td>\n",
       "      <td>505</td>\n",
       "      <td>0.382374</td>\n",
       "      <td>0.933333</td>\n",
       "    </tr>\n",
       "    <tr>\n",
       "      <th>60</th>\n",
       "      <td>0.95</td>\n",
       "      <td>495.0</td>\n",
       "      <td>1.02</td>\n",
       "      <td>370</td>\n",
       "      <td>571</td>\n",
       "      <td>20</td>\n",
       "      <td>446</td>\n",
       "      <td>0.420043</td>\n",
       "      <td>0.948718</td>\n",
       "    </tr>\n",
       "    <tr>\n",
       "      <th>61</th>\n",
       "      <td>0.95</td>\n",
       "      <td>495.0</td>\n",
       "      <td>1.21</td>\n",
       "      <td>370</td>\n",
       "      <td>571</td>\n",
       "      <td>20</td>\n",
       "      <td>446</td>\n",
       "      <td>0.420043</td>\n",
       "      <td>0.948718</td>\n",
       "    </tr>\n",
       "    <tr>\n",
       "      <th>62</th>\n",
       "      <td>0.95</td>\n",
       "      <td>495.0</td>\n",
       "      <td>1.24</td>\n",
       "      <td>370</td>\n",
       "      <td>571</td>\n",
       "      <td>20</td>\n",
       "      <td>446</td>\n",
       "      <td>0.420043</td>\n",
       "      <td>0.948718</td>\n",
       "    </tr>\n",
       "    <tr>\n",
       "      <th>63</th>\n",
       "      <td>0.95</td>\n",
       "      <td>495.0</td>\n",
       "      <td>1.29</td>\n",
       "      <td>376</td>\n",
       "      <td>596</td>\n",
       "      <td>14</td>\n",
       "      <td>421</td>\n",
       "      <td>0.433547</td>\n",
       "      <td>0.964103</td>\n",
       "    </tr>\n",
       "  </tbody>\n",
       "</table>\n",
       "<p>64 rows × 9 columns</p>\n",
       "</div>"
      ],
      "text/plain": [
       "    confidence   freq  lift   tp   fp   fn    tn       err    recall\n",
       "0         0.75  287.0  1.02   11    3  379  1014  0.271500  0.028205\n",
       "1         0.75  287.0  1.21  172   77  218   940  0.209666  0.441026\n",
       "2         0.75  287.0  1.24  244  123  146   894  0.191187  0.625641\n",
       "3         0.75  287.0  1.29  346  373   44   644  0.296375  0.887179\n",
       "4         0.75  347.0  1.02   11    3  379  1014  0.271500  0.028205\n",
       "..         ...    ...   ...  ...  ...  ...   ...       ...       ...\n",
       "59        0.95  396.0  1.29  364  512   26   505  0.382374  0.933333\n",
       "60        0.95  495.0  1.02  370  571   20   446  0.420043  0.948718\n",
       "61        0.95  495.0  1.21  370  571   20   446  0.420043  0.948718\n",
       "62        0.95  495.0  1.24  370  571   20   446  0.420043  0.948718\n",
       "63        0.95  495.0  1.29  376  596   14   421  0.433547  0.964103\n",
       "\n",
       "[64 rows x 9 columns]"
      ]
     },
     "execution_count": 74,
     "metadata": {},
     "output_type": "execute_result"
    }
   ],
   "source": [
    "evaluations = pd.read_csv(path_evaluation)\n",
    "evaluations"
   ]
  },
  {
   "cell_type": "markdown",
   "metadata": {
    "deletable": false,
    "editable": false,
    "nbgrader": {
     "cell_type": "markdown",
     "checksum": "e5b2d731ae4cc2ec3233a558f70b3850",
     "grade": false,
     "grade_id": "cell-845ff24916dbc382",
     "locked": true,
     "schema_version": 3,
     "solution": false,
     "task": false
    }
   },
   "source": [
    "Here we have 64 combinations of ranges for support, confidence and lift. For each combination, we compute the true postive, false positive, true negative, false negative, error rate and recall for the predictions. For example, if we filter `association_rules`  \n",
    "\n",
    "- confidence > 0.95\t\n",
    "- support > 396\n",
    "- lift > 1.29\n",
    "\n",
    "then we have\n",
    "\n",
    "- True Positive\n",
    "  * 364\n",
    "- False Positive\n",
    "  * 512\n",
    "- False Negative\n",
    "  * 26\n",
    "- True Negative\n",
    "  * 505\n",
    "- Error Rate\n",
    "  * 0.382374\t\n",
    "- Recall  \n",
    "  * 0.933333\n",
    "\n",
    "Compare the performance for the following combinations of support, confidence and lift. "
   ]
  },
  {
   "cell_type": "code",
   "execution_count": 75,
   "metadata": {
    "deletable": false,
    "editable": false,
    "nbgrader": {
     "cell_type": "code",
     "checksum": "5ab5eaa0343c8d6f6e3a1ff32d2e7234",
     "grade": false,
     "grade_id": "cell-cbc879e7484aa885",
     "locked": true,
     "schema_version": 3,
     "solution": false,
     "task": false
    }
   },
   "outputs": [
    {
     "data": {
      "text/plain": [
       "confidence      0.750000\n",
       "freq          287.000000\n",
       "lift            1.240000\n",
       "tp            244.000000\n",
       "fp            123.000000\n",
       "fn            146.000000\n",
       "tn            894.000000\n",
       "err             0.191187\n",
       "recall          0.625641\n",
       "Name: 2, dtype: float64"
      ]
     },
     "execution_count": 75,
     "metadata": {},
     "output_type": "execute_result"
    }
   ],
   "source": [
    "evaluations.loc[2,:]"
   ]
  },
  {
   "cell_type": "code",
   "execution_count": 76,
   "metadata": {
    "deletable": false,
    "editable": false,
    "nbgrader": {
     "cell_type": "code",
     "checksum": "912b6b248f3d57bc5c22481ccfefd2e8",
     "grade": false,
     "grade_id": "cell-657bcdfd610be960",
     "locked": true,
     "schema_version": 3,
     "solution": false,
     "task": false
    }
   },
   "outputs": [
    {
     "data": {
      "text/plain": [
       "confidence      0.910000\n",
       "freq          495.000000\n",
       "lift            1.240000\n",
       "tp            285.000000\n",
       "fp            213.000000\n",
       "fn            105.000000\n",
       "tn            804.000000\n",
       "err             0.226013\n",
       "recall          0.730769\n",
       "Name: 46, dtype: float64"
      ]
     },
     "execution_count": 76,
     "metadata": {},
     "output_type": "execute_result"
    }
   ],
   "source": [
    "evaluations.loc[46,:]"
   ]
  },
  {
   "cell_type": "markdown",
   "metadata": {
    "deletable": false,
    "editable": false,
    "nbgrader": {
     "cell_type": "markdown",
     "checksum": "b49136dde38184edf3ee92db223a6af8",
     "grade": false,
     "grade_id": "cell-98ae8ba0ecdffb0b",
     "locked": true,
     "schema_version": 3,
     "solution": false,
     "task": false
    }
   },
   "source": [
    "While both combinations have lift `1.24`, we have \n",
    "\n",
    "- confidence 0.75, support 287\n",
    "- confidence 0.91, support 495\n",
    "\n",
    "With low confidence and low support, we have many association rules. With many antecedents, we have a greater chance of matching an antecedent to a customer record. So we have a great chance of predicting `No` for `Churn`. With high confidence and high support, we have fewer association rules. With fewer antecedents, we have a lesser chance of matching an antecedent to a customer record. So we have a lesser chance of predicting `No` for `Churn`. \n",
    "\n",
    "__True or False__ If we filtered the association rules by \n",
    "\n",
    "- confidence > 0.65\t\n",
    "- support > 20\n",
    "- lift > 1.24\n",
    "\n",
    "then we expect \n",
    "\n",
    "- recall < 0.62"
   ]
  },
  {
   "cell_type": "code",
   "execution_count": 77,
   "metadata": {},
   "outputs": [
    {
     "data": {
      "text/plain": [
       "0.75"
      ]
     },
     "execution_count": 77,
     "metadata": {},
     "output_type": "execute_result"
    }
   ],
   "source": [
    "evaluations['confidence'][1]"
   ]
  },
  {
   "cell_type": "code",
   "execution_count": 78,
   "metadata": {},
   "outputs": [
    {
     "name": "stdout",
     "output_type": "stream",
     "text": [
      "0.8871794871794871\n",
      "0.9076923076923076\n",
      "0.9333333333333332\n",
      "0.964102564102564\n",
      "0.8871794871794871\n",
      "0.9076923076923076\n",
      "0.9333333333333332\n",
      "0.964102564102564\n",
      "0.8871794871794871\n",
      "0.9076923076923076\n",
      "0.9333333333333332\n",
      "0.964102564102564\n",
      "0.8871794871794871\n",
      "0.9076923076923076\n",
      "0.9333333333333332\n",
      "0.964102564102564\n"
     ]
    },
    {
     "data": {
      "text/plain": [
       "False"
      ]
     },
     "execution_count": 78,
     "metadata": {},
     "output_type": "execute_result"
    }
   ],
   "source": [
    "flag = False\n",
    "for i in range(0,len(evaluations['confidence'])):\n",
    "    if (evaluations['confidence'][i])>0.65 and (evaluations['freq'][i])>20 and (evaluations['lift'][i])>1.24:\n",
    "        recall = evaluations['recall'][i]\n",
    "        print(recall)\n",
    "        if recall < 0.62:\n",
    "            flag = True\n",
    "flag"
   ]
  },
  {
   "cell_type": "code",
   "execution_count": 79,
   "metadata": {
    "deletable": false,
    "nbgrader": {
     "cell_type": "code",
     "checksum": "502de370e28d1fc23ff4ff94166e142f",
     "grade": false,
     "grade_id": "cell-7c1f0e1bda84aa06",
     "locked": false,
     "schema_version": 3,
     "solution": true,
     "task": false
    }
   },
   "outputs": [
    {
     "name": "stdout",
     "output_type": "stream",
     "text": [
      "False\n"
     ]
    }
   ],
   "source": [
    "q_recall = ...\n",
    "flag = False\n",
    "for i in range(0,len(evaluations['confidence'])):\n",
    "    if (evaluations['confidence'][i])>0.65 and (evaluations['freq'][i])>20 and (evaluations['lift'][i])>1.24:\n",
    "        recall = evaluations['recall'][i]\n",
    "        if recall < 0.62:\n",
    "            flag = True\n",
    "print(flag)\n",
    "q_recall = flag\n",
    "# YOUR CODE HERE\n",
    "#raise NotImplementedError()"
   ]
  },
  {
   "cell_type": "code",
   "execution_count": 80,
   "metadata": {
    "deletable": false,
    "editable": false,
    "nbgrader": {
     "cell_type": "code",
     "checksum": "58d34849e338e7b3d472841314365234",
     "grade": true,
     "grade_id": "cell-a3455c4cf54bb327",
     "locked": true,
     "points": 1,
     "schema_version": 3,
     "solution": false,
     "task": false
    }
   },
   "outputs": [],
   "source": [
    "# TEST \n",
    "\n",
    "assert q_recall in [True, False]\n"
   ]
  },
  {
   "cell_type": "markdown",
   "metadata": {
    "deletable": false,
    "editable": false,
    "nbgrader": {
     "cell_type": "markdown",
     "checksum": "2e02a3136e55eff07f215ee70ba0679d",
     "grade": false,
     "grade_id": "cell-08b26f0389369821",
     "locked": true,
     "schema_version": 3,
     "solution": false,
     "task": false
    }
   },
   "source": [
    "Commonly a prediction model depends on choices like ranges for support, confidence and lift. Depending on the job task analysis we have to tune these components of the model to improve performance. If we want to have an accurate model then we need to filter by support, confidence and lift to decrease error rate. However, if the company incurs less cost from incentivizing an old customer to continue subscription of service than soliciting a new customer through marketing, then recall would be more important than error rate. If the model has greater recall, then the model has greater chance of identifying a dissatisfied customer. So we would need to filter by support, confidence and lift to increase recall.\n",
    "\n",
    "### Deployment\n",
    "\n",
    "Having selected a model based on support, confidence and lift, we would need to deploy the model."
   ]
  },
  {
   "cell_type": "code",
   "execution_count": 81,
   "metadata": {
    "deletable": false,
    "editable": false,
    "nbgrader": {
     "cell_type": "code",
     "checksum": "86efa0fb52111ec33ae9f13be417c7cf",
     "grade": false,
     "grade_id": "cell-48c42db01ee18b59",
     "locked": true,
     "schema_version": 3,
     "solution": false,
     "task": false
    }
   },
   "outputs": [
    {
     "data": {
      "image/png": "[encoded data removed]",
      "text/plain": [
       "<IPython.core.display.Image object>"
      ]
     },
     "execution_count": 81,
     "metadata": {},
     "output_type": "execute_result"
    }
   ],
   "source": [
    "Image(path_images + \"churn_architecture_simplified.png\")"
   ]
  },
  {
   "cell_type": "markdown",
   "metadata": {
    "deletable": false,
    "editable": false,
    "nbgrader": {
     "cell_type": "markdown",
     "checksum": "cc489e0387c43d58756fa29955e0d667",
     "grade": false,
     "grade_id": "cell-914d73327bb93547",
     "locked": true,
     "schema_version": 3,
     "solution": false,
     "task": false
    }
   },
   "source": [
    "While we could take different approaches to the deploying the model, the diagram indicates a possible approach.\n",
    "- Activity Logs & User Info\n",
    "  * These are the operational database containing customer records</li>\n",
    "- Extract/Transform/Load\n",
    "  * We need to process the data for the data warehouse. Here we convert from unstructured data to structured data according to the schema of the data warehouse.\n",
    "- Churn Model DB \n",
    "  * Here we store the association rules need to make the predictions. Remember that we need to match the itemsets in the antecedents. \n",
    "- Scoring Module\n",
    "  * This component inputs a customer records with the relevant features and outputs a prediction based on the association rules\n",
    "- User Churn Scores \n",
    "  * Customer relations would need a front-end system to perform online analytical processing to the predictions of customer churn.\n",
    "\n",
    "\n",
    "If the telecommunication company wanted an agile approach, then we would need to automate updates to the model. The system would need to fit the data to the model, select the ranges for support, confidence and lift based on benchmarks for error rate or recall, and deploy the model."
   ]
  },
  {
   "cell_type": "code",
   "execution_count": 82,
   "metadata": {
    "deletable": false,
    "editable": false,
    "nbgrader": {
     "cell_type": "code",
     "checksum": "cd4f2ccc429780ada58ca0b88ed25c41",
     "grade": false,
     "grade_id": "cell-384933c06f374908",
     "locked": true,
     "schema_version": 3,
     "solution": false,
     "task": false
    }
   },
   "outputs": [
    {
     "data": {
      "image/png": "[encoded data removed]",
      "text/plain": [
       "<IPython.core.display.Image object>"
      ]
     },
     "execution_count": 82,
     "metadata": {},
     "output_type": "execute_result"
    },
    {
     "name": "stderr",
     "output_type": "stream",
     "text": [
      "----------------------------------------\n",
      "Exception happened during processing of request from ('127.0.0.1', 45434)\n",
      "Traceback (most recent call last):\n",
      "  File \"/opt/conda/envs/mg-gy-8413/lib/python3.7/socketserver.py\", line 316, in _handle_request_noblock\n",
      "    self.process_request(request, client_address)\n",
      "  File \"/opt/conda/envs/mg-gy-8413/lib/python3.7/socketserver.py\", line 347, in process_request\n",
      "    self.finish_request(request, client_address)\n",
      "  File \"/opt/conda/envs/mg-gy-8413/lib/python3.7/socketserver.py\", line 360, in finish_request\n",
      "    self.RequestHandlerClass(request, client_address, self)\n",
      "  File \"/opt/conda/envs/mg-gy-8413/lib/python3.7/socketserver.py\", line 720, in __init__\n",
      "    self.handle()\n",
      "  File \"/opt/conda/envs/mg-gy-8413/lib/python3.7/site-packages/pyspark/accumulators.py\", line 268, in handle\n",
      "    poll(accum_updates)\n",
      "  File \"/opt/conda/envs/mg-gy-8413/lib/python3.7/site-packages/pyspark/accumulators.py\", line 241, in poll\n",
      "    if func():\n",
      "  File \"/opt/conda/envs/mg-gy-8413/lib/python3.7/site-packages/pyspark/accumulators.py\", line 245, in accum_updates\n",
      "    num_updates = read_int(self.rfile)\n",
      "  File \"/opt/conda/envs/mg-gy-8413/lib/python3.7/site-packages/pyspark/serializers.py\", line 714, in read_int\n",
      "    raise EOFError\n",
      "EOFError\n",
      "----------------------------------------\n"
     ]
    }
   ],
   "source": [
    "Image(path_images + 'churn_architecture_extended.png') "
   ]
  },
  {
   "cell_type": "markdown",
   "metadata": {
    "deletable": false,
    "editable": false,
    "nbgrader": {
     "cell_type": "markdown",
     "checksum": "a9eeb17b2b2bdeda2ec731841484a950",
     "grade": false,
     "grade_id": "cell-98dc26fe81879aa5",
     "locked": true,
     "schema_version": 3,
     "solution": false,
     "task": false
    }
   },
   "source": [
    "Having learned about customer churn for telecommunications companies, we could think about extending the analysis to different sectors like banking, insurance, media or personal fit. While we would need to identify other features, we could many of the same approaches. Hopefully you will find some of the these approaches helpful in your area!"
   ]
  },
  {
   "cell_type": "code",
   "execution_count": null,
   "metadata": {},
   "outputs": [],
   "source": []
  }
 ],
 "metadata": {
  "kernelspec": {
   "display_name": "Python [conda env:mg-gy-8413]",
   "language": "python",
   "name": "conda-env-mg-gy-8413-py"
  },
  "language_info": {
   "codemirror_mode": {
    "name": "ipython",
    "version": 3
   },
   "file_extension": ".py",
   "mimetype": "text/x-python",
   "name": "python",
   "nbconvert_exporter": "python",
   "pygments_lexer": "ipython3",
   "version": "3.7.7"
  }
 },
 "nbformat": 4,
 "nbformat_minor": 4
}
